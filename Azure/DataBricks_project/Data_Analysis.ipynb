{
 "cells": [
  {
   "attachments": {},
   "cell_type": "markdown",
   "metadata": {},
   "source": [
    "Demo of the Data Analysis Project in Databricks"
   ]
  },
  {
   "cell_type": "code",
   "execution_count": null,
   "metadata": {
    "application/vnd.databricks.v1+cell": {
     "cellMetadata": {
      "byteLimit": 2048000,
      "rowLimit": 10000
     },
     "inputWidgets": {},
     "nuid": "10554b01-e0b9-4210-b6ec-27cd5414cf65",
     "showTitle": false,
     "title": ""
    }
   },
   "outputs": [
    {
     "name": "stdout",
     "output_type": "stream",
     "text": [
      "+--------+----------+------+\n",
      "|GRDC No.|      Date| Value|\n",
      "+--------+----------+------+\n",
      "| 6210100|1978-10-01|15.840|\n",
      "| 6210100|1978-10-02|55.700|\n",
      "| 6210100|1978-10-03|13.980|\n",
      "| 6210100|1978-10-04|10.260|\n",
      "| 6210100|1978-10-05|10.260|\n",
      "| 6210100|1978-10-06| 6.560|\n",
      "| 6210100|1978-10-07| 6.100|\n",
      "| 6210100|1978-10-08| 5.640|\n",
      "| 6210100|1978-10-09| 5.180|\n",
      "| 6210100|1978-10-10| 4.720|\n",
      "| 6210100|1978-10-11| 4.720|\n",
      "| 6210100|1978-10-12| 4.720|\n",
      "| 6210100|1978-10-13| 4.260|\n",
      "| 6210100|1978-10-14| 4.260|\n",
      "| 6210100|1978-10-15| 4.720|\n",
      "| 6210100|1978-10-16| 5.180|\n",
      "| 6210100|1978-10-17| 4.720|\n",
      "| 6210100|1978-10-18|21.540|\n",
      "| 6210100|1978-10-19|13.050|\n",
      "| 6210100|1978-10-20| 6.560|\n",
      "+--------+----------+------+\n",
      "only showing top 20 rows\n",
      "\n"
     ]
    }
   ],
   "source": [
    "# reading files from Azure Container\n",
    "from pyspark.sql import SparkSession\n",
    "access_key=\"TW0zW3Y/8FbgkLlUhrlKxu7Obr4jOD7M69y94VtMoIRUTAdKWxmztYcjn7NuU8HJytEDkMy4JoEd+AStkFBaSQ==\"\n",
    "\n",
    "spark.conf.set(\"fs.azure.account.key.aneritrainingc339.blob.core.windows.net\",\"TW0zW3Y/8FbgkLlUhrlKxu7Obr4jOD7M69y94VtMoIRUTAdKWxmztYcjn7NuU8HJytEDkMy4JoEd+AStkFBaSQ==\")\n",
    "\n",
    "#file_path=\"wasbs://your-container-name@your storage name/file path\"\n",
    "file_path=\"wasbs://c339@aneritrainingc339.blob.core.windows.net/grdc_river/geographicaldata.csv\"\n",
    "file_path1=\"wasbs://c339@aneritrainingc339.blob.core.windows.net/grdc_river/daywisedata.csv\"\n",
    "geo_data_df = spark.read.format(\"csv\").option(\"header\",\"true\").load(file_path)\n",
    "daily_data_df = spark.read.format(\"csv\").option(\"header\",\"true\").load(file_path1)\n",
    "daily_data_df.show()"
   ]
  },
  {
   "cell_type": "code",
   "execution_count": null,
   "metadata": {
    "application/vnd.databricks.v1+cell": {
     "cellMetadata": {
      "byteLimit": 2048000,
      "rowLimit": 10000
     },
     "inputWidgets": {},
     "nuid": "a28a5ba2-34d8-4d2c-b173-8dd0df02e11e",
     "showTitle": false,
     "title": ""
    }
   },
   "outputs": [
    {
     "name": "stdout",
     "output_type": "stream",
     "text": [
      "+--------+-----------+--------------------+--------+---------+--------------+----------------+\n",
      "|GRDC No.|      River|             Station|Latitude|Longitude|Catchment Area|Altitude (m ASL)|\n",
      "+--------+-----------+--------------------+--------+---------+--------------+----------------+\n",
      "| 6210100|RIO NERVION|           ECHEVARRI|43.24813| -2.89438|           997|              18|\n",
      "| 6210210|     TAMBRE|          PORTOMOURD|42.93673| -8.65912|        1526.2|            1146|\n",
      "| 6210220|  LENGUELLE|  VILACIDE DE ARRBIA|42.98167| -8.46225|           311|             228|\n",
      "| 6210230|     Tambre|              Carolo|42.97602|  -8.3775|           561|             240|\n",
      "| 6210310|         EO|  San Tirso de Abres|43.41203| -7.14513|           712|              21|\n",
      "| 6210320|         EO|           PONTENOVO|43.34766| -7.19211|           572|              23|\n",
      "| 6210330|         EO|   RIBEIRA DE PIQUIN|43.17761| -7.20004|           346|             241|\n",
      "| 6210410|      NALON|             GRULLOS|43.43154| -6.05836|          2884|              34|\n",
      "| 6210510|    BIDASOA|           ENDARLAZA|43.34384| -1.76099|           681|              29|\n",
      "| 6211050|       MINO| SALVATIERRA DE MINO|42.07874| -8.49782|         15678|              24|\n",
      "| 6211100|       MINO|              ORENSE|42.35769|  -7.8516|         12810|              95|\n",
      "| 6211150|       MINO| ORENSE (VIA SATE...|42.36032| -7.85179|         12985|              95|\n",
      "| 6211160|       MINO|                LUGO| 43.0019| -7.56348|          2303|             362|\n",
      "| 6211170|       MINO|                LUGO|43.02449| -7.58797|          2210|             378|\n",
      "| 6211180|       MINO|CELA (MARGEN DERE...|43.13925| -7.60455|           999|             382|\n",
      "| 6211185|       MINO|CELA (MARGEN DERE...|43.13925| -7.60455|           999|             382|\n",
      "| 6211500|        SIL|           SAN PEDRO|42.45282|  -7.7152|          7982|             120|\n",
      "| 6211520|        SIL| BARCO DE VALDEORRAS| 42.4127| -6.97725|          4268|             315|\n",
      "| 6211610|        CUA|              FABERO|42.78728| -6.62819|           216|             644|\n",
      "| 6211620|      BOEZA|               BOEZA|42.68353| -6.29401|           106|             827|\n",
      "+--------+-----------+--------------------+--------+---------+--------------+----------------+\n",
      "only showing top 20 rows\n",
      "\n"
     ]
    }
   ],
   "source": [
    "# show the type of data  \n",
    "geo_data_df.show()"
   ]
  },
  {
   "cell_type": "code",
   "execution_count": null,
   "metadata": {
    "application/vnd.databricks.v1+cell": {
     "cellMetadata": {
      "byteLimit": 2048000,
      "rowLimit": 10000
     },
     "inputWidgets": {},
     "nuid": "a26fde2e-8ae2-4c0a-836c-5cff9c9db5de",
     "showTitle": false,
     "title": ""
    }
   },
   "outputs": [],
   "source": [
    "from pyspark.sql import SparkSession "
   ]
  },
  {
   "cell_type": "code",
   "execution_count": null,
   "metadata": {
    "application/vnd.databricks.v1+cell": {
     "cellMetadata": {
      "byteLimit": 2048000,
      "rowLimit": 10000
     },
     "inputWidgets": {},
     "nuid": "67d668ec-171f-47de-99f2-e5b160df3d23",
     "showTitle": false,
     "title": ""
    }
   },
   "outputs": [],
   "source": [
    "spark = (SparkSession\n",
    "         .builder\n",
    "         .appName(\"Analyzing the River Data\")\n",
    "         .getOrCreate())"
   ]
  },
  {
   "cell_type": "code",
   "execution_count": null,
   "metadata": {
    "application/vnd.databricks.v1+cell": {
     "cellMetadata": {
      "byteLimit": 2048000,
      "rowLimit": 10000
     },
     "inputWidgets": {},
     "nuid": "16a2904a-a71c-4307-bad3-9959d565fa2c",
     "showTitle": false,
     "title": ""
    }
   },
   "outputs": [],
   "source": [
    "# creating Dataframe\n",
    "df_geo= geo_data_df"
   ]
  },
  {
   "cell_type": "code",
   "execution_count": null,
   "metadata": {
    "application/vnd.databricks.v1+cell": {
     "cellMetadata": {
      "byteLimit": 2048000,
      "rowLimit": 10000
     },
     "inputWidgets": {},
     "nuid": "98755555-8615-46c2-b35f-d0814ceb5876",
     "showTitle": false,
     "title": ""
    }
   },
   "outputs": [
    {
     "name": "stdout",
     "output_type": "stream",
     "text": [
      "root\n",
      " |-- GRDC No.: string (nullable = true)\n",
      " |-- River: string (nullable = true)\n",
      " |-- Station: string (nullable = true)\n",
      " |-- Latitude: string (nullable = true)\n",
      " |-- Longitude: string (nullable = true)\n",
      " |-- Catchment Area: string (nullable = true)\n",
      " |-- Altitude (m ASL): string (nullable = true)\n",
      "\n"
     ]
    }
   ],
   "source": [
    "#show our dataFrame schema\n",
    "df_geo.printSchema()"
   ]
  },
  {
   "cell_type": "code",
   "execution_count": null,
   "metadata": {
    "application/vnd.databricks.v1+cell": {
     "cellMetadata": {
      "byteLimit": 2048000,
      "rowLimit": 10000
     },
     "inputWidgets": {},
     "nuid": "36c6c8ca-914d-43eb-9cf0-d2fb03d14a49",
     "showTitle": false,
     "title": ""
    }
   },
   "outputs": [
    {
     "name": "stdout",
     "output_type": "stream",
     "text": [
      "Out[11]: [('GRDC No.', 'string'),\n",
      " ('River', 'string'),\n",
      " ('Station', 'string'),\n",
      " ('Latitude', 'string'),\n",
      " ('Longitude', 'string'),\n",
      " ('Catchment Area', 'string'),\n",
      " ('Altitude (m ASL)', 'string')]"
     ]
    }
   ],
   "source": [
    "#datatypes of the data\n",
    "df_geo.dtypes"
   ]
  },
  {
   "cell_type": "code",
   "execution_count": null,
   "metadata": {
    "application/vnd.databricks.v1+cell": {
     "cellMetadata": {
      "byteLimit": 2048000,
      "rowLimit": 10000
     },
     "inputWidgets": {},
     "nuid": "2ce76c04-1a29-4d37-a774-4316def3e76e",
     "showTitle": false,
     "title": ""
    }
   },
   "outputs": [
    {
     "name": "stdout",
     "output_type": "stream",
     "text": [
      "+--------+-----------+------------------+--------+---------+--------------+----------------+\n",
      "|GRDC No.|      River|           Station|Latitude|Longitude|Catchment Area|Altitude (m ASL)|\n",
      "+--------+-----------+------------------+--------+---------+--------------+----------------+\n",
      "| 6210100|RIO NERVION|         ECHEVARRI|43.24813| -2.89438|           997|              18|\n",
      "| 6210210|     TAMBRE|        PORTOMOURD|42.93673| -8.65912|        1526.2|            1146|\n",
      "| 6210220|  LENGUELLE|VILACIDE DE ARRBIA|42.98167| -8.46225|           311|             228|\n",
      "| 6210230|     Tambre|            Carolo|42.97602|  -8.3775|           561|             240|\n",
      "| 6210310|         EO|San Tirso de Abres|43.41203| -7.14513|           712|              21|\n",
      "+--------+-----------+------------------+--------+---------+--------------+----------------+\n",
      "only showing top 5 rows\n",
      "\n"
     ]
    }
   ],
   "source": [
    "# show just 5 records\n",
    "df_geo.show(5)"
   ]
  },
  {
   "cell_type": "code",
   "execution_count": null,
   "metadata": {
    "application/vnd.databricks.v1+cell": {
     "cellMetadata": {
      "byteLimit": 2048000,
      "rowLimit": 10000
     },
     "inputWidgets": {},
     "nuid": "980acec4-addb-4b3e-86b1-9a62a6dfdc66",
     "showTitle": false,
     "title": ""
    }
   },
   "outputs": [
    {
     "name": "stdout",
     "output_type": "stream",
     "text": [
      "number of rows:  147\n"
     ]
    }
   ],
   "source": [
    "#count number of rows of our dataFrame\n",
    "num_rows = df_geo.count()\n",
    "print(\"number of rows: \", num_rows)"
   ]
  },
  {
   "cell_type": "code",
   "execution_count": null,
   "metadata": {
    "application/vnd.databricks.v1+cell": {
     "cellMetadata": {
      "byteLimit": 2048000,
      "rowLimit": 10000
     },
     "inputWidgets": {},
     "nuid": "24f92301-575c-4f99-b00b-481f53899349",
     "showTitle": false,
     "title": ""
    }
   },
   "outputs": [
    {
     "name": "stdout",
     "output_type": "stream",
     "text": [
      "+-------+-----------+\n",
      "|summary|    Station|\n",
      "+-------+-----------+\n",
      "|  count|        147|\n",
      "|   mean|       null|\n",
      "| stddev|       null|\n",
      "|    min|  EL PAULAR|\n",
      "|    max|      ZUJAR|\n",
      "+-------+-----------+\n",
      "\n"
     ]
    }
   ],
   "source": [
    "#show statistic of the data we want\n",
    "df_geo.describe('Station').show()"
   ]
  },
  {
   "cell_type": "code",
   "execution_count": null,
   "metadata": {
    "application/vnd.databricks.v1+cell": {
     "cellMetadata": {
      "byteLimit": 2048000,
      "rowLimit": 10000
     },
     "inputWidgets": {},
     "nuid": "b9ab3418-2fdf-4b07-96cb-f16590e345d1",
     "showTitle": false,
     "title": ""
    }
   },
   "outputs": [
    {
     "name": "stdout",
     "output_type": "stream",
     "text": [
      "Out[15]: 71"
     ]
    }
   ],
   "source": [
    "#Find number of unique values. Find number of unique rivers names.\n",
    "df_geo.select('River').distinct().count()"
   ]
  },
  {
   "cell_type": "code",
   "execution_count": null,
   "metadata": {
    "application/vnd.databricks.v1+cell": {
     "cellMetadata": {
      "byteLimit": 2048000,
      "rowLimit": 10000
     },
     "inputWidgets": {},
     "nuid": "d99eeacf-9950-426b-a7ff-4f5066566663",
     "showTitle": false,
     "title": ""
    }
   },
   "outputs": [
    {
     "name": "stdout",
     "output_type": "stream",
     "text": [
      "+-----------+------------------+\n",
      "|      River|           Station|\n",
      "+-----------+------------------+\n",
      "|RIO NERVION|         ECHEVARRI|\n",
      "|     TAMBRE|        PORTOMOURD|\n",
      "|  LENGUELLE|VILACIDE DE ARRBIA|\n",
      "|     Tambre|            Carolo|\n",
      "|         EO|San Tirso de Abres|\n",
      "+-----------+------------------+\n",
      "only showing top 5 rows\n",
      "\n",
      "=========================\n",
      "root\n",
      " |-- River: string (nullable = true)\n",
      " |-- Station: string (nullable = true)\n",
      "\n"
     ]
    }
   ],
   "source": [
    "#create new dataFrame from \"City\" and \"Total\" columns\n",
    "newDataframe = df_geo.select(df_geo['River'], df_geo['Station'])\n",
    "\n",
    "# top 5 rows \n",
    "newDataframe.show(5); \n",
    "\n",
    "print('=========================')\n",
    "# schema of dataframe\n",
    "newDataframe.printSchema() "
   ]
  },
  {
   "cell_type": "code",
   "execution_count": null,
   "metadata": {
    "application/vnd.databricks.v1+cell": {
     "cellMetadata": {
      "byteLimit": 2048000,
      "rowLimit": 10000
     },
     "inputWidgets": {},
     "nuid": "c4f4f07f-fbce-4c73-84a7-f28a3f943a0a",
     "showTitle": false,
     "title": ""
    }
   },
   "outputs": [
    {
     "name": "stdout",
     "output_type": "stream",
     "text": [
      "+--------+-----------+------------------+--------+---------+--------------+----------------+\n",
      "|GRDC No.|      River|           Station|Latitude|Longitude|Catchment Area|Altitude (m ASL)|\n",
      "+--------+-----------+------------------+--------+---------+--------------+----------------+\n",
      "| 6210100|RIO NERVION|         ECHEVARRI|43.24813| -2.89438|           997|              18|\n",
      "| 6210210|     TAMBRE|        PORTOMOURD|42.93673| -8.65912|        1526.2|            1146|\n",
      "| 6210220|  LENGUELLE|VILACIDE DE ARRBIA|42.98167| -8.46225|           311|             228|\n",
      "| 6210230|     Tambre|            Carolo|42.97602|  -8.3775|           561|             240|\n",
      "| 6210310|         EO|San Tirso de Abres|43.41203| -7.14513|           712|              21|\n",
      "+--------+-----------+------------------+--------+---------+--------------+----------------+\n",
      "only showing top 5 rows\n",
      "\n"
     ]
    }
   ],
   "source": [
    "#filter only row data whose \"Catchment Area\" column value > 200\n",
    "df_geo.filter(df_geo['Catchment Area'] > 200).show(5)"
   ]
  },
  {
   "cell_type": "code",
   "execution_count": null,
   "metadata": {
    "application/vnd.databricks.v1+cell": {
     "cellMetadata": {
      "byteLimit": 2048000,
      "rowLimit": 10000
     },
     "inputWidgets": {},
     "nuid": "61031535-dd41-4a81-9910-b4c320ff5f28",
     "showTitle": false,
     "title": ""
    }
   },
   "outputs": [
    {
     "name": "stdout",
     "output_type": "stream",
     "text": [
      "+--------+--------+--------------------+--------+---------+--------------+----------------+\n",
      "|GRDC No.|   River|             Station|Latitude|Longitude|Catchment Area|Altitude (m ASL)|\n",
      "+--------+--------+--------------------+--------+---------+--------------+----------------+\n",
      "| 6213600|   TAGUS|           ALCANTARA|39.76458|  -6.8019|         46487|             121|\n",
      "| 6213700|   TAGUS|            TALAVERA| 39.9571| -4.82941|         33849|             366|\n",
      "| 6212850|   ADAJA|        VALDESTILLAS|41.48991| -4.76955|          5202|             693|\n",
      "| 6212810|  AGUEDA|   SAELICES EL CHICO| 40.6968| -6.66088|          1609|             590|\n",
      "| 6212820|  AGUEDA|CASTILLEJO MARTIN...|40.69691| -6.66063|          1700|             584|\n",
      "| 6212830|  AGUEDA|             ROBLEDA|40.42908| -6.60153|           263|             780|\n",
      "| 6213510|  ALAGON|           GARCIBUEY| 40.4982| -5.94399|           426|             520|\n",
      "| 6213520|  ALAGON|            GALISTEO|39.98153| -6.30487|          2672|             260|\n",
      "| 6227160|ALFAMBRA|       VILLALBA ALTA|40.61675| -0.97426|           478|            1060|\n",
      "| 6226310|  ARAGON|           CAPARROSO|42.34535| -1.64761|          5469|             302|\n",
      "+--------+--------+--------------------+--------+---------+--------------+----------------+\n",
      "only showing top 10 rows\n",
      "\n"
     ]
    }
   ],
   "source": [
    "# sorting dataframe by River \n",
    "sortedByCity = df_geo.orderBy('River').show(10)"
   ]
  },
  {
   "cell_type": "code",
   "execution_count": null,
   "metadata": {
    "application/vnd.databricks.v1+cell": {
     "cellMetadata": {
      "byteLimit": 2048000,
      "rowLimit": 10000
     },
     "inputWidgets": {},
     "nuid": "0a0587de-aab1-4d9b-851a-dbef9efbe901",
     "showTitle": false,
     "title": ""
    }
   },
   "outputs": [
    {
     "name": "stdout",
     "output_type": "stream",
     "text": [
      "+--------------+-----+\n",
      "|         River|count|\n",
      "+--------------+-----+\n",
      "|         GALLO|    1|\n",
      "|      BERNESGA|    1|\n",
      "|ARBA DE LUESIA|    2|\n",
      "|          MINO|    7|\n",
      "|         MOUGA|    1|\n",
      "+--------------+-----+\n",
      "only showing top 5 rows\n",
      "\n"
     ]
    }
   ],
   "source": [
    "# Calculating number of each River...\n",
    "numoFEachRiver = df_geo.groupBy(\"River\").count()\n",
    "numoFEachRiver.show(5)"
   ]
  },
  {
   "cell_type": "code",
   "execution_count": null,
   "metadata": {
    "application/vnd.databricks.v1+cell": {
     "cellMetadata": {
      "byteLimit": 2048000,
      "rowLimit": 10000
     },
     "inputWidgets": {},
     "nuid": "0d6daf17-da54-4d8b-9bc9-65e54ecd417f",
     "showTitle": false,
     "title": ""
    }
   },
   "outputs": [
    {
     "name": "stdout",
     "output_type": "stream",
     "text": [
      "Out[20]: [Row(avg(Altitude (m ASL))=405.61224489795916)]"
     ]
    }
   ],
   "source": [
    "# Mean value of Altitude\n",
    "from pyspark.sql.functions import mean\n",
    "df_geo.select(mean ('Altitude (m ASL)')).collect()"
   ]
  },
  {
   "cell_type": "code",
   "execution_count": null,
   "metadata": {
    "application/vnd.databricks.v1+cell": {
     "cellMetadata": {
      "byteLimit": 2048000,
      "rowLimit": 10000
     },
     "inputWidgets": {},
     "nuid": "4f4b3dfa-f904-4065-ae73-5b9bb91cf847",
     "showTitle": false,
     "title": ""
    }
   },
   "outputs": [
    {
     "data": {
      "text/plain": []
     },
     "metadata": {
      "application/vnd.databricks.v1+output": {
       "arguments": {},
       "data": "",
       "errorSummary": "Command skipped",
       "errorTraceType": "ansi",
       "metadata": {},
       "type": "ipynbError"
      }
     },
     "output_type": "display_data"
    }
   ],
   "source": [
    "#Demo to import excel file\n",
    "#Read xlsx file in databricks from storage:\n",
    "#%python\n",
    "%pip install openpyxl\n",
    "import pandas as pd #make sure you dont import spark.pandas here!\n",
    "\n",
    "access_key=\"TW0zW3Y/8FbgkLlUhrlKxu7Obr4jOD7M69y94VtMoIRUTAdKWxmztYcjn7NuU8HJytEDkMy4JoEd+AStkFBaSQ==\"\n",
    "\n",
    "#create config to mount a file from blob storage to databricks\n",
    "configs = {\n",
    "    \"fs.azure.account.auth.type\": \"Key\",\n",
    "    \"fs.azure.account.key.aneritrainingc339.blob.core.windows.net\": access_key\n",
    "}\n",
    "#use the config to mount the file\n",
    "dbutils.fs.mount(\n",
    "    source = \"wasbs://excelfile@aneritrainingc339.blob.core.windows.net\",\n",
    "    mount_point = \"/mnt/my_mount_name\",\n",
    "    extra_configs = configs\n",
    ")\n",
    "\n",
    "#read xlsx file\n",
    "df = pd.read_excel(\"/dbfs/mnt/my_mount_name/water_availability_spain.xlsx\")\n",
    "\n",
    "#unmount,clenaup\n",
    "dbutils.fs.unmount(\"/mnt/my_mount_name\")\n",
    "\n",
    "#display imported df\n",
    "display(df.head())"
   ]
  },
  {
   "cell_type": "code",
   "execution_count": null,
   "metadata": {
    "application/vnd.databricks.v1+cell": {
     "cellMetadata": {
      "byteLimit": 2048000,
      "rowLimit": 10000
     },
     "inputWidgets": {},
     "nuid": "38ef6470-3ede-4539-a90a-259609fd9b5c",
     "showTitle": false,
     "title": ""
    }
   },
   "outputs": [
    {
     "data": {
      "text/html": [
       "<style scoped>\n",
       "  .table-result-container {\n",
       "    max-height: 300px;\n",
       "    overflow: auto;\n",
       "  }\n",
       "  table, th, td {\n",
       "    border: 1px solid black;\n",
       "    border-collapse: collapse;\n",
       "  }\n",
       "  th, td {\n",
       "    padding: 5px;\n",
       "  }\n",
       "  th {\n",
       "    text-align: left;\n",
       "  }\n",
       "</style><div class='table-result-container'><table class='table-result'><thead style='background-color: white'><tr><th>GRDC No.</th><th>River</th><th>Station</th><th>Latitude</th><th>Longitude</th><th>Catchment Area</th><th>Altitude (m ASL)</th></tr></thead><tbody><tr><td>6210100</td><td>RIO NERVION</td><td>ECHEVARRI</td><td>43.24813</td><td>-2.89438</td><td>997</td><td>18</td></tr><tr><td>6210210</td><td>TAMBRE</td><td>PORTOMOURD</td><td>42.93673</td><td>-8.65912</td><td>1526.2</td><td>1146</td></tr><tr><td>6210220</td><td>LENGUELLE</td><td>VILACIDE DE ARRBIA</td><td>42.98167</td><td>-8.46225</td><td>311</td><td>228</td></tr><tr><td>6210230</td><td>Tambre</td><td>Carolo</td><td>42.97602</td><td>-8.3775</td><td>561</td><td>240</td></tr><tr><td>6210310</td><td>EO</td><td>San Tirso de Abres</td><td>43.41203</td><td>-7.14513</td><td>712</td><td>21</td></tr><tr><td>6210320</td><td>EO</td><td>PONTENOVO</td><td>43.34766</td><td>-7.19211</td><td>572</td><td>23</td></tr><tr><td>6210330</td><td>EO</td><td>RIBEIRA DE PIQUIN</td><td>43.17761</td><td>-7.20004</td><td>346</td><td>241</td></tr><tr><td>6210410</td><td>NALON</td><td>GRULLOS</td><td>43.43154</td><td>-6.05836</td><td>2884</td><td>34</td></tr><tr><td>6210510</td><td>BIDASOA</td><td>ENDARLAZA</td><td>43.34384</td><td>-1.76099</td><td>681</td><td>29</td></tr><tr><td>6211050</td><td>MINO</td><td>SALVATIERRA DE MINO</td><td>42.07874</td><td>-8.49782</td><td>15678</td><td>24</td></tr><tr><td>6211100</td><td>MINO</td><td>ORENSE</td><td>42.35769</td><td>-7.8516</td><td>12810</td><td>95</td></tr><tr><td>6211150</td><td>MINO</td><td> ORENSE (VIA SATELLITE)</td><td>42.36032</td><td>-7.85179</td><td>12985</td><td>95</td></tr><tr><td>6211160</td><td>MINO</td><td>LUGO</td><td>43.0019</td><td>-7.56348</td><td>2303</td><td>362</td></tr><tr><td>6211170</td><td>MINO</td><td>LUGO</td><td>43.02449</td><td>-7.58797</td><td>2210</td><td>378</td></tr><tr><td>6211180</td><td>MINO</td><td>CELA (MARGEN DERECHA)</td><td>43.13925</td><td>-7.60455</td><td>999</td><td>382</td></tr><tr><td>6211185</td><td>MINO</td><td>CELA (MARGEN DERECHA)</td><td>43.13925</td><td>-7.60455</td><td>999</td><td>382</td></tr><tr><td>6211500</td><td>SIL</td><td> SAN PEDRO</td><td>42.45282</td><td>-7.7152</td><td>7982</td><td>120</td></tr><tr><td>6211520</td><td>SIL</td><td> BARCO DE VALDEORRAS</td><td>42.4127</td><td>-6.97725</td><td>4268</td><td>315</td></tr><tr><td>6211610</td><td>CUA</td><td>FABERO</td><td>42.78728</td><td>-6.62819</td><td>216</td><td>644</td></tr><tr><td>6211620</td><td>BOEZA</td><td>BOEZA</td><td>42.68353</td><td>-6.29401</td><td>106</td><td>827</td></tr><tr><td>6212320</td><td>TAMEGA</td><td>RABAL</td><td>41.84864</td><td>-7.43529</td><td>719</td><td>369</td></tr><tr><td>6212330</td><td>TAMEGA</td><td>CASTRELO DO VAL</td><td>41.99484</td><td>-7.44225</td><td>196</td><td>411</td></tr><tr><td>6212400</td><td>DOURO</td><td>VILLACHICA O SAN ANDRES</td><td>41.5</td><td>-5.48</td><td>41856</td><td>641</td></tr><tr><td>6212410</td><td>DOURO</td><td>TORO</td><td>41.51511</td><td>-5.41283</td><td>41808</td><td>637</td></tr><tr><td>6212420</td><td>DOURO</td><td> PUENTE PINO</td><td>41.58</td><td>-6.19</td><td>63160</td><td>-999</td></tr><tr><td>6212430</td><td>DOURO</td><td>SAUCELLE - DUERO</td><td>41.03101</td><td>-6.82071</td><td>75163</td><td>133</td></tr><tr><td>6212440</td><td>DOURO</td><td>CARRASCAL</td><td>41.48711</td><td>-5.81469</td><td>46700</td><td>619</td></tr><tr><td>6212450</td><td>DOURO</td><td>ZAMORA</td><td>41.51189</td><td>-5.72244</td><td>46137</td><td>628</td></tr><tr><td>6212460</td><td>DOURO</td><td>HERRERA DE DUERO</td><td>41.56543</td><td>-4.66628</td><td>12740</td><td>690</td></tr><tr><td>6212470</td><td>DOURO</td><td>GORMAZ</td><td>41.48765</td><td>-2.99506</td><td>5055</td><td>880</td></tr><tr><td>6212480</td><td>DOURO</td><td>MOLINOS DE DUERO</td><td>41.88747</td><td>-2.78759</td><td>135</td><td>1100</td></tr><tr><td>6212500</td><td>ESLA</td><td>BENAMARIEL</td><td>42.37436</td><td>-5.56125</td><td>3980</td><td>757</td></tr><tr><td>6212505</td><td>ESLA</td><td>BENAMARIEL - 2</td><td>42.36862</td><td>-5.5636</td><td>3980</td><td>757</td></tr><tr><td>6212510</td><td>ESLA</td><td>BRETO</td><td>41.87413</td><td>-5.76421</td><td>14263</td><td>691</td></tr><tr><td>6212515</td><td>ESLA</td><td>BRETO</td><td>41.87414</td><td>-5.76438</td><td>14420.1</td><td>685</td></tr><tr><td>6212550</td><td>BERNESGA</td><td>VILLAMANIN</td><td>42.94048</td><td>-5.66143</td><td>131.3</td><td>1125</td></tr><tr><td>6212610</td><td>VALDERADUEY</td><td>VILLAGODIO - 2</td><td>41.53618</td><td>-5.69874</td><td>3546</td><td>630</td></tr><tr><td>6212620</td><td>VALDERADUEY</td><td>BENEGILES</td><td>41.62382</td><td>-5.63227</td><td>3187.3</td><td>645</td></tr><tr><td>6212630</td><td>VALDERADUEY</td><td>SANTERVAS DE CAMPOS</td><td>42.21593</td><td>-5.09673</td><td>279.1</td><td>756</td></tr><tr><td>6212700</td><td>ARLANZA</td><td> PERAL DE ARLANZA</td><td>42.08</td><td>-4.07</td><td>2413</td><td>766</td></tr><tr><td>6212710</td><td>ARLANZA</td><td> QUINTANA DEL PUENTE</td><td>42.086448</td><td>-4.20781</td><td>5256</td><td>740</td></tr><tr><td>6212720</td><td>ARLANZA</td><td>SALAS DE LOS INFANTES</td><td>42.02359</td><td>-3.29035</td><td>349</td><td>958</td></tr><tr><td>6212740</td><td>PISUERGA</td><td>VALLADOLID-PISUERGA</td><td>41.65977</td><td>-4.73288</td><td>15638</td><td>690</td></tr><tr><td>6212750</td><td>PISUERGA</td><td>CORDOVILLA</td><td>42.13053</td><td>-4.24956</td><td>4227</td><td>740</td></tr><tr><td>6212760</td><td>PISUERGA</td><td>SAN SALVADOR DE CANTAMUDA</td><td>42.96465</td><td>-4.49023</td><td>144</td><td>1095</td></tr><tr><td>6212780</td><td>UCERO</td><td>OSMA</td><td>41.58228</td><td>-3.0754</td><td>900</td><td>890</td></tr><tr><td>6212810</td><td>AGUEDA</td><td>SAELICES EL CHICO</td><td>40.6968</td><td>-6.66088</td><td>1609</td><td>590</td></tr><tr><td>6212820</td><td>AGUEDA</td><td>CASTILLEJO MARTIN VIEJO</td><td>40.69691</td><td>-6.66063</td><td>1700</td><td>584</td></tr><tr><td>6212830</td><td>AGUEDA</td><td>ROBLEDA</td><td>40.42908</td><td>-6.60153</td><td>263</td><td>780</td></tr><tr><td>6212840</td><td>TORMES</td><td>SALAMANCA</td><td>40.95773</td><td>-5.64882</td><td>4010</td><td>780</td></tr><tr><td>6212850</td><td>ADAJA</td><td>VALDESTILLAS</td><td>41.48991</td><td>-4.76955</td><td>5202</td><td>693</td></tr><tr><td>6212860</td><td>DURATON</td><td>SEPULVEDA</td><td>41.30058</td><td>-3.73782</td><td>466.3</td><td>920</td></tr><tr><td>6212870</td><td>TORMES</td><td>HOYOS DEL ESPINO</td><td>40.33862</td><td>-5.17262</td><td>88</td><td>1377</td></tr><tr><td>6213500</td><td>TAGUS </td><td>ALCANTARA (PUENTE ROMANO)</td><td>39.724</td><td>-6.89188</td><td>51958</td><td>110</td></tr><tr><td>6213510</td><td>ALAGON</td><td>GARCIBUEY</td><td>40.4982</td><td>-5.94399</td><td>426</td><td>520</td></tr><tr><td>6213520</td><td>ALAGON</td><td>  GALISTEO</td><td>39.98153</td><td>-6.30487</td><td>2672</td><td>260</td></tr><tr><td>6213530</td><td>TIETAR</td><td> LA BAZAGONA</td><td>39.93297</td><td>-5.90479</td><td>4090</td><td>230</td></tr><tr><td>6213540</td><td>TIETAR</td><td>ARENAS DE SAN PEDRO</td><td>40.159</td><td>-5.01672</td><td>730</td><td>367</td></tr><tr><td>6213600</td><td> TAGUS</td><td>ALCANTARA</td><td>39.76458</td><td>-6.8019</td><td>46487</td><td>121</td></tr><tr><td>6213650</td><td>TAGUS</td><td>TALAVERA LA VISTILLA</td><td>39.94011</td><td>-4.84749</td><td>33859</td><td>357</td></tr><tr><td>6213700</td><td> TAGUS</td><td> TALAVERA</td><td>39.9571</td><td>-4.82941</td><td>33849</td><td>366</td></tr><tr><td>6213750</td><td>JARAMA</td><td>ARANJUEZ (PUENTE LARGO)</td><td>40.08626</td><td>-3.60796</td><td>11549</td><td>491</td></tr><tr><td>6213760</td><td>JARAMA</td><td>MATALLANA</td><td>41.053</td><td>-3.33091</td><td>143</td><td>940</td></tr><tr><td>6213770</td><td>JARAMA</td><td>PUENTE TITULCIA</td><td>40.13715</td><td>-3.58017</td><td>8890</td><td>498</td></tr><tr><td>6213780</td><td>JARAMA</td><td>MEJORADA DEL CAMPO</td><td>40.39521</td><td>-3.50944</td><td>7005</td><td>550</td></tr><tr><td>6213790</td><td>BADIEL</td><td>TORRE DEL BURGO</td><td>40.79684</td><td>-3.0812</td><td>333</td><td>716</td></tr><tr><td>6213792</td><td>LOZOYA</td><td>  EL PAULAR</td><td>40.84627</td><td>-3.8859</td><td>42</td><td>1270</td></tr><tr><td>6213794</td><td>GALLO</td><td>VENTOSA</td><td>40.82924</td><td>-1.96523</td><td>944</td><td>1016</td></tr><tr><td>6213800</td><td>TAGUS</td><td>TRILLO</td><td>40.69743</td><td>-2.58582</td><td>3253</td><td>727</td></tr><tr><td>6213850</td><td>TAGUS</td><td>EMBOCADOR</td><td>40.04181</td><td>-3.56996</td><td>9312</td><td>497</td></tr><tr><td>6213900</td><td>TAGUS</td><td>PERALEJOS DE LAS TRUCHAS</td><td>40.59903</td><td>-1.95419</td><td>410</td><td>1143</td></tr><tr><td>6216500</td><td>GUADIANA</td><td>PUENTE DE PALMAS</td><td>38.88</td><td>-6.97</td><td>48515</td><td>-999</td></tr><tr><td>6216510</td><td>GUADIANA</td><td>AZUD DE BADAJOZ</td><td>38.86199</td><td>-7.01754</td><td>48530</td><td>166</td></tr><tr><td>6216520</td><td>GUADIANA</td><td>VILLARRUBIA</td><td>39.19801</td><td>-3.59073</td><td>10319</td><td>628</td></tr><tr><td>6216530</td><td>GUADIANA</td><td>LA CUBETA</td><td>38.97169</td><td>-2.88906</td><td>856</td><td>758</td></tr><tr><td>6216610</td><td>ZUJAR</td><td>VILLANUEVA DE LA SERENA</td><td>39.0003</td><td>-5.75856</td><td>8508</td><td>250</td></tr><tr><td>6216630</td><td>ZUJAR</td><td>ZUJAR</td><td>38.90985</td><td>-5.49226</td><td>7640</td><td>279</td></tr><tr><td>6216650</td><td>GUALEMAR</td><td>SERENA (GUADALEMAR)</td><td>39.04246</td><td>-4.97835</td><td>324</td><td>444</td></tr><tr><td>6216700</td><td>JABALON</td><td>PUENTE MORENA</td><td>38.871389</td><td>-3.891563</td><td>2337</td><td>580</td></tr><tr><td>6216800</td><td>GIGUELA</td><td>QUINTANAR DE LA ORDEN</td><td>39.64264</td><td>-3.081</td><td>995</td><td>694</td></tr><tr><td>6216810</td><td>GIGUELA</td><td>VILLAFRANCA DE LOS CABALLEROS</td><td>39.415</td><td>-3.30998</td><td>2557</td><td>642</td></tr><tr><td>6216820</td><td>GIGUELA</td><td>SAELICES</td><td>39.88359</td><td>-2.8009</td><td>552</td><td>787</td></tr><tr><td>6217100</td><td>GUADALQUIVIR</td><td>ALCALA DEL RIO</td><td>37.51844</td><td>-5.97639</td><td>46134</td><td>10</td></tr><tr><td>6217110</td><td>GUADALQUIVIR</td><td>CANTILLANA</td><td>37.59278</td><td>-5.81185</td><td>44002</td><td>12</td></tr><tr><td>6217120</td><td>GUADALQUIVIR</td><td>SEVILLA</td><td>37.35066</td><td>-6.02206</td><td>48548</td><td>9</td></tr><tr><td>6217135</td><td>GUADALQUIVIR</td><td>CORDOBA</td><td>37.87936</td><td>-4.77485</td><td>24704</td><td>86</td></tr><tr><td>6217140</td><td>GUADALQUIVIR</td><td> MENGIBAR</td><td>37.98425</td><td>-3.79939</td><td>16166</td><td>240</td></tr><tr><td>6217150</td><td>GUADALQUIVIR</td><td>PUENTE CERRADA</td><td>37.95916</td><td>-3.18981</td><td>1330</td><td>341</td></tr><tr><td>6217200</td><td>GUADALQUIVIR</td><td>ARROYO MARIA</td><td>38.17905</td><td>-2.83594</td><td>583</td><td>538</td></tr><tr><td>6217300</td><td>GENIL</td><td>ECIJA</td><td>37.55806</td><td>-5.07775</td><td>8028</td><td>104</td></tr><tr><td>6217400</td><td>GUADALIMAR</td><td>CARR. TORREBLASCOPEDRO</td><td>38.01643</td><td>-3.63666</td><td>5131</td><td>256</td></tr><tr><td>6217500</td><td>GUADIANA MENOR</td><td>POSITO</td><td>37.88131</td><td>-3.21164</td><td>6349</td><td>383</td></tr><tr><td>6217600</td><td>GUARDAL</td><td>EL DOCTOR</td><td>37.88908</td><td>-2.67431</td><td>28</td><td>1064</td></tr><tr><td>6217700</td><td>FRAILES</td><td>PINOS PUENTE</td><td>37.25869</td><td>-3.76895</td><td>357</td><td>561</td></tr><tr><td>6217800</td><td>GUADIAMAR</td><td> AZNALCAZAR PUENTE</td><td>37.30286</td><td>-6.25986</td><td>960</td><td>21</td></tr><tr><td>6226100</td><td>EBRO</td><td>ARROYO</td><td>42.9627</td><td>-4.05846</td><td>812</td><td>469</td></tr><tr><td>6226200</td><td>EBRO</td><td>MIRANDA DE EBRO</td><td>42.68765</td><td>-2.95553</td><td>5481</td><td>459</td></tr><tr><td>6226210</td><td>JEREA</td><td>VIRUES</td><td>42.80807</td><td>-3.35733</td><td>290</td><td>532</td></tr><tr><td>6226220</td><td>OCA</td><td>ONA</td><td>42.73532</td><td>-3.41395</td><td>1051</td><td>570</td></tr><tr><td>6226230</td><td>NELA</td><td>TRESPADERNE</td><td>42.79986</td><td>-3.39415</td><td>1093</td><td>540</td></tr><tr><td>6226250</td><td>NELA</td><td>VILLARCAYO</td><td>42.94659</td><td>-3.57335</td><td>262</td><td>597</td></tr><tr><td>6226300</td><td>EBRO</td><td> CASTEJON</td><td>42.18008</td><td>-1.69474</td><td>25194</td><td>265</td></tr><tr><td>6226310</td><td>ARAGON</td><td>CAPARROSO</td><td>42.34535</td><td>-1.64761</td><td>5469</td><td>302</td></tr><tr><td>6226350</td><td>ULZAMA</td><td>OLAVE</td><td>42.88354</td><td>-1.60594</td><td>240</td><td>465</td></tr><tr><td>6226390</td><td>ARAGON</td><td>CANFRANC ANTIGUO</td><td>42.71978</td><td>-0.52518</td><td>101</td><td>1040</td></tr><tr><td>6226400</td><td>EBRO</td><td>ZARAGOZA</td><td>41.65857</td><td>-0.88106</td><td>40434</td><td>189</td></tr><tr><td>6226420</td><td>HUERVA</td><td>ZARAGOZA</td><td>41.63706</td><td>-0.89788</td><td>1017</td><td>203</td></tr><tr><td>6226430</td><td>GALLEGO</td><td>ZARAGOZA</td><td>41.66878</td><td>-0.8417</td><td>4008</td><td>197</td></tr><tr><td>6226440</td><td>JALON</td><td>GRISEN</td><td>41.73411</td><td>-1.17489</td><td>9694</td><td>250</td></tr><tr><td>6226450</td><td>ARBA DE LUESIA</td><td>TAUSTE</td><td>41.91296</td><td>-1.28009</td><td>2193</td><td>243</td></tr><tr><td>6226460</td><td>JALON</td><td>JUBERA</td><td>41.19659</td><td>-2.33844</td><td>196</td><td>892</td></tr><tr><td>6226470</td><td>ARBA DE LUESIA</td><td>BIOTA</td><td>42.26199</td><td>-1.19189</td><td>144</td><td>476</td></tr><tr><td>6226480</td><td>JILOCA</td><td>CALAMOCHA</td><td>40.92019</td><td>-1.30242</td><td>1498</td><td>883</td></tr><tr><td>6226490</td><td>GALLEGO</td><td>SALLENT DE GALLEGO</td><td>42.76875</td><td>-0.33491</td><td>1350</td><td>44</td></tr><tr><td>6226500</td><td>FORTANETE</td><td>PITARQUE</td><td>40.50333</td><td>-0.52275</td><td>284</td><td>990</td></tr><tr><td>6226550</td><td>GUADALOPE</td><td>CASPE</td><td>41.24529</td><td>0.00103</td><td>3845</td><td>128</td></tr><tr><td>6226600</td><td>SEGRE</td><td>SEROS</td><td>41.45289</td><td>0.41971</td><td>12782</td><td>85</td></tr><tr><td>6226640</td><td>SEGRE</td><td>PUIGCERDA</td><td>42.42349</td><td>1.93329</td><td>297</td><td>1120</td></tr><tr><td>6226650</td><td>CINCA</td><td>FRAGA</td><td>41.52445</td><td>0.34657</td><td>9612</td><td>100</td></tr><tr><td>6226690</td><td>CINCA</td><td>LAFORTUNADA</td><td>42.54271</td><td>0.19518</td><td>453</td><td>700</td></tr><tr><td>6226700</td><td>VERO</td><td>LECINA DE BARCABO</td><td>42.22018</td><td>0.04365</td><td>110</td><td>630</td></tr><tr><td>6226800</td><td>EBRO</td><td>TORTOSA</td><td>40.81328</td><td>0.52066</td><td>84230</td><td>25</td></tr><tr><td>6227100</td><td>GUADALHORCE</td><td>BOBADILLA</td><td>37.05</td><td>-4.7</td><td>761</td><td>370</td></tr><tr><td>6227130</td><td>TURIA</td><td>LA PRESA</td><td>39.51777</td><td>-0.50406</td><td>6294</td><td>50</td></tr><tr><td>6227150</td><td>TURIA</td><td>TERUEL</td><td>40.34311</td><td>-1.11142</td><td>2357</td><td>851</td></tr><tr><td>6227160</td><td>ALFAMBRA</td><td>VILLALBA ALTA</td><td>40.61675</td><td>-0.97426</td><td>478</td><td>1060</td></tr><tr><td>6227170</td><td>TURIA</td><td>TRAMACASTILLA</td><td>40.42774</td><td>-1.56014</td><td>95</td><td>1278</td></tr><tr><td>6227300</td><td>NACIMIENTO</td><td>EL CHONO</td><td>37.08</td><td>-2.63</td><td>616</td><td>512</td></tr><tr><td>6227410</td><td>SEGURA</td><td>ROJALES</td><td>38.08919</td><td>-0.72155</td><td>14894</td><td>12</td></tr><tr><td>6227420</td><td>SEGURA</td><td>ROJALES (NUEVA )</td><td>38.09135</td><td>-0.71314</td><td>14331</td><td>9</td></tr><tr><td>6227430</td><td>SEGURA</td><td>CALASPARRA</td><td>38.24651</td><td>-1.6943</td><td>5713</td><td>258</td></tr><tr><td>6227440</td><td>SEGURA</td><td>PUENTE DEL BAYO</td><td>38.28552</td><td>-1.68971</td><td>5137</td><td>300</td></tr><tr><td>6227500</td><td>JUCAR</td><td>MASIA DE POMPO</td><td>39.12558</td><td>-0.64545</td><td>17821</td><td>54</td></tr><tr><td>6227510</td><td>JUCAR</td><td>HUERTO MULET</td><td>39.18695</td><td>-0.41044</td><td>21497</td><td>18</td></tr><tr><td>6227520</td><td>JUCAR</td><td>ALCALA DEL JUCAR</td><td>39.19421</td><td>-1.42779</td><td>10785</td><td>520</td></tr><tr><td>6227530</td><td>JUCAR</td><td>VENTA DE JUAN ROMERO</td><td>40.225</td><td>-1.84415</td><td>250</td><td>1170</td></tr><tr><td>6227610</td><td>MIJARES</td><td>VILLARREAL</td><td>39.9613</td><td>-0.11924</td><td>2504</td><td>50</td></tr><tr><td>6227620</td><td>MIJARES</td><td> EL TERDE</td><td>40.16094</td><td>-0.76986</td><td>665</td><td>845</td></tr><tr><td>6228600</td><td>BESOS</td><td>SANTA COLOMA DE GRAMENET</td><td>41.450598</td><td>2.200589</td><td>1036</td><td>-999</td></tr><tr><td>6228700</td><td>MOUGA</td><td>CASTELLO D'EMPURIES</td><td>42.254381</td><td>3.071999</td><td>-999</td><td>-999</td></tr><tr><td>6228800</td><td>LLOBREGAT</td><td>MARTORELL</td><td>41.468569</td><td>1.947855</td><td>4561</td><td>44</td></tr><tr><td>6228810</td><td>LLOBREGAT</td><td>SANT JOAN DESPI</td><td>41.351811</td><td>2.0466</td><td>4880</td><td>-999</td></tr><tr><td>6228820</td><td>LLOBREGAT</td><td>SANT VICENC DELS HORTS</td><td>41.386565</td><td>2.023356</td><td>-999</td><td>-999</td></tr><tr><td>6228850</td><td>BESOS</td><td>SIFON N.A.</td><td>41.450598</td><td>2.200589</td><td>1036</td><td>-999</td></tr><tr><td>6228900</td><td>TER</td><td>RODA DE TER</td><td>41.98</td><td>2.32</td><td>1390</td><td>428</td></tr><tr><td>6228910</td><td>TER</td><td>LES MASIES DE RODA</td><td>41.984207</td><td>2.301072</td><td>1390</td><td>-999</td></tr><tr><td>6228920</td><td>TER</td><td>TORROELLA DE MONTGRI</td><td>42.035163</td><td>3.125381</td><td>-999</td><td>-999</td></tr></tbody></table></div>"
      ]
     },
     "metadata": {
      "application/vnd.databricks.v1+output": {
       "addedWidgets": {},
       "aggData": [],
       "aggError": "",
       "aggOverflow": false,
       "aggSchema": [],
       "aggSeriesLimitReached": false,
       "aggType": "",
       "arguments": {},
       "columnCustomDisplayInfos": {},
       "data": [
        [
         "6210100",
         "RIO NERVION",
         "ECHEVARRI",
         "43.24813",
         "-2.89438",
         "997",
         "18"
        ],
        [
         "6210210",
         "TAMBRE",
         "PORTOMOURD",
         "42.93673",
         "-8.65912",
         "1526.2",
         "1146"
        ],
        [
         "6210220",
         "LENGUELLE",
         "VILACIDE DE ARRBIA",
         "42.98167",
         "-8.46225",
         "311",
         "228"
        ],
        [
         "6210230",
         "Tambre",
         "Carolo",
         "42.97602",
         "-8.3775",
         "561",
         "240"
        ],
        [
         "6210310",
         "EO",
         "San Tirso de Abres",
         "43.41203",
         "-7.14513",
         "712",
         "21"
        ],
        [
         "6210320",
         "EO",
         "PONTENOVO",
         "43.34766",
         "-7.19211",
         "572",
         "23"
        ],
        [
         "6210330",
         "EO",
         "RIBEIRA DE PIQUIN",
         "43.17761",
         "-7.20004",
         "346",
         "241"
        ],
        [
         "6210410",
         "NALON",
         "GRULLOS",
         "43.43154",
         "-6.05836",
         "2884",
         "34"
        ],
        [
         "6210510",
         "BIDASOA",
         "ENDARLAZA",
         "43.34384",
         "-1.76099",
         "681",
         "29"
        ],
        [
         "6211050",
         "MINO",
         "SALVATIERRA DE MINO",
         "42.07874",
         "-8.49782",
         "15678",
         "24"
        ],
        [
         "6211100",
         "MINO",
         "ORENSE",
         "42.35769",
         "-7.8516",
         "12810",
         "95"
        ],
        [
         "6211150",
         "MINO",
         " ORENSE (VIA SATELLITE)",
         "42.36032",
         "-7.85179",
         "12985",
         "95"
        ],
        [
         "6211160",
         "MINO",
         "LUGO",
         "43.0019",
         "-7.56348",
         "2303",
         "362"
        ],
        [
         "6211170",
         "MINO",
         "LUGO",
         "43.02449",
         "-7.58797",
         "2210",
         "378"
        ],
        [
         "6211180",
         "MINO",
         "CELA (MARGEN DERECHA)",
         "43.13925",
         "-7.60455",
         "999",
         "382"
        ],
        [
         "6211185",
         "MINO",
         "CELA (MARGEN DERECHA)",
         "43.13925",
         "-7.60455",
         "999",
         "382"
        ],
        [
         "6211500",
         "SIL",
         " SAN PEDRO",
         "42.45282",
         "-7.7152",
         "7982",
         "120"
        ],
        [
         "6211520",
         "SIL",
         " BARCO DE VALDEORRAS",
         "42.4127",
         "-6.97725",
         "4268",
         "315"
        ],
        [
         "6211610",
         "CUA",
         "FABERO",
         "42.78728",
         "-6.62819",
         "216",
         "644"
        ],
        [
         "6211620",
         "BOEZA",
         "BOEZA",
         "42.68353",
         "-6.29401",
         "106",
         "827"
        ],
        [
         "6212320",
         "TAMEGA",
         "RABAL",
         "41.84864",
         "-7.43529",
         "719",
         "369"
        ],
        [
         "6212330",
         "TAMEGA",
         "CASTRELO DO VAL",
         "41.99484",
         "-7.44225",
         "196",
         "411"
        ],
        [
         "6212400",
         "DOURO",
         "VILLACHICA O SAN ANDRES",
         "41.5",
         "-5.48",
         "41856",
         "641"
        ],
        [
         "6212410",
         "DOURO",
         "TORO",
         "41.51511",
         "-5.41283",
         "41808",
         "637"
        ],
        [
         "6212420",
         "DOURO",
         " PUENTE PINO",
         "41.58",
         "-6.19",
         "63160",
         "-999"
        ],
        [
         "6212430",
         "DOURO",
         "SAUCELLE - DUERO",
         "41.03101",
         "-6.82071",
         "75163",
         "133"
        ],
        [
         "6212440",
         "DOURO",
         "CARRASCAL",
         "41.48711",
         "-5.81469",
         "46700",
         "619"
        ],
        [
         "6212450",
         "DOURO",
         "ZAMORA",
         "41.51189",
         "-5.72244",
         "46137",
         "628"
        ],
        [
         "6212460",
         "DOURO",
         "HERRERA DE DUERO",
         "41.56543",
         "-4.66628",
         "12740",
         "690"
        ],
        [
         "6212470",
         "DOURO",
         "GORMAZ",
         "41.48765",
         "-2.99506",
         "5055",
         "880"
        ],
        [
         "6212480",
         "DOURO",
         "MOLINOS DE DUERO",
         "41.88747",
         "-2.78759",
         "135",
         "1100"
        ],
        [
         "6212500",
         "ESLA",
         "BENAMARIEL",
         "42.37436",
         "-5.56125",
         "3980",
         "757"
        ],
        [
         "6212505",
         "ESLA",
         "BENAMARIEL - 2",
         "42.36862",
         "-5.5636",
         "3980",
         "757"
        ],
        [
         "6212510",
         "ESLA",
         "BRETO",
         "41.87413",
         "-5.76421",
         "14263",
         "691"
        ],
        [
         "6212515",
         "ESLA",
         "BRETO",
         "41.87414",
         "-5.76438",
         "14420.1",
         "685"
        ],
        [
         "6212550",
         "BERNESGA",
         "VILLAMANIN",
         "42.94048",
         "-5.66143",
         "131.3",
         "1125"
        ],
        [
         "6212610",
         "VALDERADUEY",
         "VILLAGODIO - 2",
         "41.53618",
         "-5.69874",
         "3546",
         "630"
        ],
        [
         "6212620",
         "VALDERADUEY",
         "BENEGILES",
         "41.62382",
         "-5.63227",
         "3187.3",
         "645"
        ],
        [
         "6212630",
         "VALDERADUEY",
         "SANTERVAS DE CAMPOS",
         "42.21593",
         "-5.09673",
         "279.1",
         "756"
        ],
        [
         "6212700",
         "ARLANZA",
         " PERAL DE ARLANZA",
         "42.08",
         "-4.07",
         "2413",
         "766"
        ],
        [
         "6212710",
         "ARLANZA",
         " QUINTANA DEL PUENTE",
         "42.086448",
         "-4.20781",
         "5256",
         "740"
        ],
        [
         "6212720",
         "ARLANZA",
         "SALAS DE LOS INFANTES",
         "42.02359",
         "-3.29035",
         "349",
         "958"
        ],
        [
         "6212740",
         "PISUERGA",
         "VALLADOLID-PISUERGA",
         "41.65977",
         "-4.73288",
         "15638",
         "690"
        ],
        [
         "6212750",
         "PISUERGA",
         "CORDOVILLA",
         "42.13053",
         "-4.24956",
         "4227",
         "740"
        ],
        [
         "6212760",
         "PISUERGA",
         "SAN SALVADOR DE CANTAMUDA",
         "42.96465",
         "-4.49023",
         "144",
         "1095"
        ],
        [
         "6212780",
         "UCERO",
         "OSMA",
         "41.58228",
         "-3.0754",
         "900",
         "890"
        ],
        [
         "6212810",
         "AGUEDA",
         "SAELICES EL CHICO",
         "40.6968",
         "-6.66088",
         "1609",
         "590"
        ],
        [
         "6212820",
         "AGUEDA",
         "CASTILLEJO MARTIN VIEJO",
         "40.69691",
         "-6.66063",
         "1700",
         "584"
        ],
        [
         "6212830",
         "AGUEDA",
         "ROBLEDA",
         "40.42908",
         "-6.60153",
         "263",
         "780"
        ],
        [
         "6212840",
         "TORMES",
         "SALAMANCA",
         "40.95773",
         "-5.64882",
         "4010",
         "780"
        ],
        [
         "6212850",
         "ADAJA",
         "VALDESTILLAS",
         "41.48991",
         "-4.76955",
         "5202",
         "693"
        ],
        [
         "6212860",
         "DURATON",
         "SEPULVEDA",
         "41.30058",
         "-3.73782",
         "466.3",
         "920"
        ],
        [
         "6212870",
         "TORMES",
         "HOYOS DEL ESPINO",
         "40.33862",
         "-5.17262",
         "88",
         "1377"
        ],
        [
         "6213500",
         "TAGUS ",
         "ALCANTARA (PUENTE ROMANO)",
         "39.724",
         "-6.89188",
         "51958",
         "110"
        ],
        [
         "6213510",
         "ALAGON",
         "GARCIBUEY",
         "40.4982",
         "-5.94399",
         "426",
         "520"
        ],
        [
         "6213520",
         "ALAGON",
         "  GALISTEO",
         "39.98153",
         "-6.30487",
         "2672",
         "260"
        ],
        [
         "6213530",
         "TIETAR",
         " LA BAZAGONA",
         "39.93297",
         "-5.90479",
         "4090",
         "230"
        ],
        [
         "6213540",
         "TIETAR",
         "ARENAS DE SAN PEDRO",
         "40.159",
         "-5.01672",
         "730",
         "367"
        ],
        [
         "6213600",
         " TAGUS",
         "ALCANTARA",
         "39.76458",
         "-6.8019",
         "46487",
         "121"
        ],
        [
         "6213650",
         "TAGUS",
         "TALAVERA LA VISTILLA",
         "39.94011",
         "-4.84749",
         "33859",
         "357"
        ],
        [
         "6213700",
         " TAGUS",
         " TALAVERA",
         "39.9571",
         "-4.82941",
         "33849",
         "366"
        ],
        [
         "6213750",
         "JARAMA",
         "ARANJUEZ (PUENTE LARGO)",
         "40.08626",
         "-3.60796",
         "11549",
         "491"
        ],
        [
         "6213760",
         "JARAMA",
         "MATALLANA",
         "41.053",
         "-3.33091",
         "143",
         "940"
        ],
        [
         "6213770",
         "JARAMA",
         "PUENTE TITULCIA",
         "40.13715",
         "-3.58017",
         "8890",
         "498"
        ],
        [
         "6213780",
         "JARAMA",
         "MEJORADA DEL CAMPO",
         "40.39521",
         "-3.50944",
         "7005",
         "550"
        ],
        [
         "6213790",
         "BADIEL",
         "TORRE DEL BURGO",
         "40.79684",
         "-3.0812",
         "333",
         "716"
        ],
        [
         "6213792",
         "LOZOYA",
         "  EL PAULAR",
         "40.84627",
         "-3.8859",
         "42",
         "1270"
        ],
        [
         "6213794",
         "GALLO",
         "VENTOSA",
         "40.82924",
         "-1.96523",
         "944",
         "1016"
        ],
        [
         "6213800",
         "TAGUS",
         "TRILLO",
         "40.69743",
         "-2.58582",
         "3253",
         "727"
        ],
        [
         "6213850",
         "TAGUS",
         "EMBOCADOR",
         "40.04181",
         "-3.56996",
         "9312",
         "497"
        ],
        [
         "6213900",
         "TAGUS",
         "PERALEJOS DE LAS TRUCHAS",
         "40.59903",
         "-1.95419",
         "410",
         "1143"
        ],
        [
         "6216500",
         "GUADIANA",
         "PUENTE DE PALMAS",
         "38.88",
         "-6.97",
         "48515",
         "-999"
        ],
        [
         "6216510",
         "GUADIANA",
         "AZUD DE BADAJOZ",
         "38.86199",
         "-7.01754",
         "48530",
         "166"
        ],
        [
         "6216520",
         "GUADIANA",
         "VILLARRUBIA",
         "39.19801",
         "-3.59073",
         "10319",
         "628"
        ],
        [
         "6216530",
         "GUADIANA",
         "LA CUBETA",
         "38.97169",
         "-2.88906",
         "856",
         "758"
        ],
        [
         "6216610",
         "ZUJAR",
         "VILLANUEVA DE LA SERENA",
         "39.0003",
         "-5.75856",
         "8508",
         "250"
        ],
        [
         "6216630",
         "ZUJAR",
         "ZUJAR",
         "38.90985",
         "-5.49226",
         "7640",
         "279"
        ],
        [
         "6216650",
         "GUALEMAR",
         "SERENA (GUADALEMAR)",
         "39.04246",
         "-4.97835",
         "324",
         "444"
        ],
        [
         "6216700",
         "JABALON",
         "PUENTE MORENA",
         "38.871389",
         "-3.891563",
         "2337",
         "580"
        ],
        [
         "6216800",
         "GIGUELA",
         "QUINTANAR DE LA ORDEN",
         "39.64264",
         "-3.081",
         "995",
         "694"
        ],
        [
         "6216810",
         "GIGUELA",
         "VILLAFRANCA DE LOS CABALLEROS",
         "39.415",
         "-3.30998",
         "2557",
         "642"
        ],
        [
         "6216820",
         "GIGUELA",
         "SAELICES",
         "39.88359",
         "-2.8009",
         "552",
         "787"
        ],
        [
         "6217100",
         "GUADALQUIVIR",
         "ALCALA DEL RIO",
         "37.51844",
         "-5.97639",
         "46134",
         "10"
        ],
        [
         "6217110",
         "GUADALQUIVIR",
         "CANTILLANA",
         "37.59278",
         "-5.81185",
         "44002",
         "12"
        ],
        [
         "6217120",
         "GUADALQUIVIR",
         "SEVILLA",
         "37.35066",
         "-6.02206",
         "48548",
         "9"
        ],
        [
         "6217135",
         "GUADALQUIVIR",
         "CORDOBA",
         "37.87936",
         "-4.77485",
         "24704",
         "86"
        ],
        [
         "6217140",
         "GUADALQUIVIR",
         " MENGIBAR",
         "37.98425",
         "-3.79939",
         "16166",
         "240"
        ],
        [
         "6217150",
         "GUADALQUIVIR",
         "PUENTE CERRADA",
         "37.95916",
         "-3.18981",
         "1330",
         "341"
        ],
        [
         "6217200",
         "GUADALQUIVIR",
         "ARROYO MARIA",
         "38.17905",
         "-2.83594",
         "583",
         "538"
        ],
        [
         "6217300",
         "GENIL",
         "ECIJA",
         "37.55806",
         "-5.07775",
         "8028",
         "104"
        ],
        [
         "6217400",
         "GUADALIMAR",
         "CARR. TORREBLASCOPEDRO",
         "38.01643",
         "-3.63666",
         "5131",
         "256"
        ],
        [
         "6217500",
         "GUADIANA MENOR",
         "POSITO",
         "37.88131",
         "-3.21164",
         "6349",
         "383"
        ],
        [
         "6217600",
         "GUARDAL",
         "EL DOCTOR",
         "37.88908",
         "-2.67431",
         "28",
         "1064"
        ],
        [
         "6217700",
         "FRAILES",
         "PINOS PUENTE",
         "37.25869",
         "-3.76895",
         "357",
         "561"
        ],
        [
         "6217800",
         "GUADIAMAR",
         " AZNALCAZAR PUENTE",
         "37.30286",
         "-6.25986",
         "960",
         "21"
        ],
        [
         "6226100",
         "EBRO",
         "ARROYO",
         "42.9627",
         "-4.05846",
         "812",
         "469"
        ],
        [
         "6226200",
         "EBRO",
         "MIRANDA DE EBRO",
         "42.68765",
         "-2.95553",
         "5481",
         "459"
        ],
        [
         "6226210",
         "JEREA",
         "VIRUES",
         "42.80807",
         "-3.35733",
         "290",
         "532"
        ],
        [
         "6226220",
         "OCA",
         "ONA",
         "42.73532",
         "-3.41395",
         "1051",
         "570"
        ],
        [
         "6226230",
         "NELA",
         "TRESPADERNE",
         "42.79986",
         "-3.39415",
         "1093",
         "540"
        ],
        [
         "6226250",
         "NELA",
         "VILLARCAYO",
         "42.94659",
         "-3.57335",
         "262",
         "597"
        ],
        [
         "6226300",
         "EBRO",
         " CASTEJON",
         "42.18008",
         "-1.69474",
         "25194",
         "265"
        ],
        [
         "6226310",
         "ARAGON",
         "CAPARROSO",
         "42.34535",
         "-1.64761",
         "5469",
         "302"
        ],
        [
         "6226350",
         "ULZAMA",
         "OLAVE",
         "42.88354",
         "-1.60594",
         "240",
         "465"
        ],
        [
         "6226390",
         "ARAGON",
         "CANFRANC ANTIGUO",
         "42.71978",
         "-0.52518",
         "101",
         "1040"
        ],
        [
         "6226400",
         "EBRO",
         "ZARAGOZA",
         "41.65857",
         "-0.88106",
         "40434",
         "189"
        ],
        [
         "6226420",
         "HUERVA",
         "ZARAGOZA",
         "41.63706",
         "-0.89788",
         "1017",
         "203"
        ],
        [
         "6226430",
         "GALLEGO",
         "ZARAGOZA",
         "41.66878",
         "-0.8417",
         "4008",
         "197"
        ],
        [
         "6226440",
         "JALON",
         "GRISEN",
         "41.73411",
         "-1.17489",
         "9694",
         "250"
        ],
        [
         "6226450",
         "ARBA DE LUESIA",
         "TAUSTE",
         "41.91296",
         "-1.28009",
         "2193",
         "243"
        ],
        [
         "6226460",
         "JALON",
         "JUBERA",
         "41.19659",
         "-2.33844",
         "196",
         "892"
        ],
        [
         "6226470",
         "ARBA DE LUESIA",
         "BIOTA",
         "42.26199",
         "-1.19189",
         "144",
         "476"
        ],
        [
         "6226480",
         "JILOCA",
         "CALAMOCHA",
         "40.92019",
         "-1.30242",
         "1498",
         "883"
        ],
        [
         "6226490",
         "GALLEGO",
         "SALLENT DE GALLEGO",
         "42.76875",
         "-0.33491",
         "1350",
         "44"
        ],
        [
         "6226500",
         "FORTANETE",
         "PITARQUE",
         "40.50333",
         "-0.52275",
         "284",
         "990"
        ],
        [
         "6226550",
         "GUADALOPE",
         "CASPE",
         "41.24529",
         "0.00103",
         "3845",
         "128"
        ],
        [
         "6226600",
         "SEGRE",
         "SEROS",
         "41.45289",
         "0.41971",
         "12782",
         "85"
        ],
        [
         "6226640",
         "SEGRE",
         "PUIGCERDA",
         "42.42349",
         "1.93329",
         "297",
         "1120"
        ],
        [
         "6226650",
         "CINCA",
         "FRAGA",
         "41.52445",
         "0.34657",
         "9612",
         "100"
        ],
        [
         "6226690",
         "CINCA",
         "LAFORTUNADA",
         "42.54271",
         "0.19518",
         "453",
         "700"
        ],
        [
         "6226700",
         "VERO",
         "LECINA DE BARCABO",
         "42.22018",
         "0.04365",
         "110",
         "630"
        ],
        [
         "6226800",
         "EBRO",
         "TORTOSA",
         "40.81328",
         "0.52066",
         "84230",
         "25"
        ],
        [
         "6227100",
         "GUADALHORCE",
         "BOBADILLA",
         "37.05",
         "-4.7",
         "761",
         "370"
        ],
        [
         "6227130",
         "TURIA",
         "LA PRESA",
         "39.51777",
         "-0.50406",
         "6294",
         "50"
        ],
        [
         "6227150",
         "TURIA",
         "TERUEL",
         "40.34311",
         "-1.11142",
         "2357",
         "851"
        ],
        [
         "6227160",
         "ALFAMBRA",
         "VILLALBA ALTA",
         "40.61675",
         "-0.97426",
         "478",
         "1060"
        ],
        [
         "6227170",
         "TURIA",
         "TRAMACASTILLA",
         "40.42774",
         "-1.56014",
         "95",
         "1278"
        ],
        [
         "6227300",
         "NACIMIENTO",
         "EL CHONO",
         "37.08",
         "-2.63",
         "616",
         "512"
        ],
        [
         "6227410",
         "SEGURA",
         "ROJALES",
         "38.08919",
         "-0.72155",
         "14894",
         "12"
        ],
        [
         "6227420",
         "SEGURA",
         "ROJALES (NUEVA )",
         "38.09135",
         "-0.71314",
         "14331",
         "9"
        ],
        [
         "6227430",
         "SEGURA",
         "CALASPARRA",
         "38.24651",
         "-1.6943",
         "5713",
         "258"
        ],
        [
         "6227440",
         "SEGURA",
         "PUENTE DEL BAYO",
         "38.28552",
         "-1.68971",
         "5137",
         "300"
        ],
        [
         "6227500",
         "JUCAR",
         "MASIA DE POMPO",
         "39.12558",
         "-0.64545",
         "17821",
         "54"
        ],
        [
         "6227510",
         "JUCAR",
         "HUERTO MULET",
         "39.18695",
         "-0.41044",
         "21497",
         "18"
        ],
        [
         "6227520",
         "JUCAR",
         "ALCALA DEL JUCAR",
         "39.19421",
         "-1.42779",
         "10785",
         "520"
        ],
        [
         "6227530",
         "JUCAR",
         "VENTA DE JUAN ROMERO",
         "40.225",
         "-1.84415",
         "250",
         "1170"
        ],
        [
         "6227610",
         "MIJARES",
         "VILLARREAL",
         "39.9613",
         "-0.11924",
         "2504",
         "50"
        ],
        [
         "6227620",
         "MIJARES",
         " EL TERDE",
         "40.16094",
         "-0.76986",
         "665",
         "845"
        ],
        [
         "6228600",
         "BESOS",
         "SANTA COLOMA DE GRAMENET",
         "41.450598",
         "2.200589",
         "1036",
         "-999"
        ],
        [
         "6228700",
         "MOUGA",
         "CASTELLO D'EMPURIES",
         "42.254381",
         "3.071999",
         "-999",
         "-999"
        ],
        [
         "6228800",
         "LLOBREGAT",
         "MARTORELL",
         "41.468569",
         "1.947855",
         "4561",
         "44"
        ],
        [
         "6228810",
         "LLOBREGAT",
         "SANT JOAN DESPI",
         "41.351811",
         "2.0466",
         "4880",
         "-999"
        ],
        [
         "6228820",
         "LLOBREGAT",
         "SANT VICENC DELS HORTS",
         "41.386565",
         "2.023356",
         "-999",
         "-999"
        ],
        [
         "6228850",
         "BESOS",
         "SIFON N.A.",
         "41.450598",
         "2.200589",
         "1036",
         "-999"
        ],
        [
         "6228900",
         "TER",
         "RODA DE TER",
         "41.98",
         "2.32",
         "1390",
         "428"
        ],
        [
         "6228910",
         "TER",
         "LES MASIES DE RODA",
         "41.984207",
         "2.301072",
         "1390",
         "-999"
        ],
        [
         "6228920",
         "TER",
         "TORROELLA DE MONTGRI",
         "42.035163",
         "3.125381",
         "-999",
         "-999"
        ]
       ],
       "datasetInfos": [],
       "dbfsResultPath": null,
       "isJsonSchema": true,
       "metadata": {},
       "overflow": false,
       "plotOptions": {
        "customPlotOptions": {},
        "displayType": "table",
        "pivotAggregation": null,
        "pivotColumns": null,
        "xColumns": null,
        "yColumns": null
       },
       "removedWidgets": [],
       "schema": [
        {
         "metadata": "{}",
         "name": "GRDC No.",
         "type": "\"string\""
        },
        {
         "metadata": "{}",
         "name": "River",
         "type": "\"string\""
        },
        {
         "metadata": "{}",
         "name": "Station",
         "type": "\"string\""
        },
        {
         "metadata": "{}",
         "name": "Latitude",
         "type": "\"string\""
        },
        {
         "metadata": "{}",
         "name": "Longitude",
         "type": "\"string\""
        },
        {
         "metadata": "{}",
         "name": "Catchment Area",
         "type": "\"string\""
        },
        {
         "metadata": "{}",
         "name": "Altitude (m ASL)",
         "type": "\"string\""
        }
       ],
       "type": "table"
      }
     },
     "output_type": "display_data"
    },
    {
     "data": {
      "text/plain": [
       "Output can only be rendered in Databricks"
      ]
     },
     "metadata": {
      "application/vnd.databricks.v1.subcommand+json": {
       "bindings": {},
       "collapsed": false,
       "command": "%python\n__backend_agg_display_orig = display\n__backend_agg_dfs = []\ndef __backend_agg_display_new(df):\n    __backend_agg_df_modules = [\"pandas.core.frame\", \"databricks.koalas.frame\", \"pyspark.sql.dataframe\", \"pyspark.pandas.frame\"]\n    if (type(df).__module__ in __backend_agg_df_modules and type(df).__name__ == 'DataFrame') or isinstance(df, list):\n        __backend_agg_dfs.append(df)\n\ndisplay = __backend_agg_display_new\n\ndef __backend_agg_user_code_fn():\n    import base64\n    exec(base64.standard_b64decode(\"ZGlzcGxheShnZW9fZGF0YV9kZik=\").decode())\n\ntry:\n    # run user code\n    __backend_agg_user_code_fn()\n\n    #reset display function\n    display = __backend_agg_display_orig\n\n    if len(__backend_agg_dfs) > 0:\n        # create a temp view\n        if hasattr(__backend_agg_dfs[0], \"to_spark\"):\n            # koalas dataframe\n            __backend_agg_dfs[0].to_spark().createOrReplaceTempView(\"DatabricksView38fd118\")\n        elif type(__backend_agg_dfs[0]).__module__ == \"pandas.core.frame\" or isinstance(__backend_agg_dfs[0], list):\n            # pandas dataframe\n            spark.createDataFrame(__backend_agg_dfs[0]).createOrReplaceTempView(\"DatabricksView38fd118\")\n        else:\n            __backend_agg_dfs[0].createOrReplaceTempView(\"DatabricksView38fd118\")\n        #run backend agg\n        display(spark.sql(\"\"\"WITH q AS (select * from DatabricksView38fd118) SELECT `River`,`Station` FROM q GROUP BY `River`,`Station`\"\"\"))\n    else:\n        displayHTML(\"dataframe no longer exists. If you're using dataframe.display(), use display(dataframe) instead.\")\n\n\nfinally:\n    spark.sql(\"drop view if exists DatabricksView38fd118\")\n    display = __backend_agg_display_orig\n    del __backend_agg_display_new\n    del __backend_agg_display_orig\n    del __backend_agg_dfs\n    del __backend_agg_user_code_fn\n\n",
       "commandTitle": "Visualization 1",
       "commandType": "auto",
       "commandVersion": 0,
       "commentThread": [],
       "commentsVisible": false,
       "contentSha256Hex": null,
       "customPlotOptions": {
        "redashChart": [
         {
          "key": "type",
          "value": "CHART"
         },
         {
          "key": "options",
          "value": {
           "alignYAxesAtZero": true,
           "coefficient": 1,
           "columnConfigurationMap": {
            "series": {
             "column": "River",
             "id": "column_84d09b5d5"
            },
            "x": {
             "column": "Station",
             "id": "column_84d09b5d4"
            },
            "y": [
             {
              "column": "River",
              "id": "column_84d09b5d6",
              "transform": "COUNT"
             }
            ]
           },
           "dateTimeFormat": "DD/MM/YYYY HH:mm",
           "direction": {
            "type": "counterclockwise"
           },
           "error_y": {
            "type": "data",
            "visible": true
           },
           "globalSeriesType": "column",
           "isAggregationOn": true,
           "legend": {
            "traceorder": "normal"
           },
           "missingValuesAsZero": true,
           "numberFormat": "0,0[.]00000",
           "percentFormat": "0[.]00%",
           "series": {
            "error_y": {
             "type": "data",
             "visible": true
            },
            "stacking": null
           },
           "seriesOptions": {
            "": {
             "color": "#799CFF",
             "yAxis": 0
            },
            "column_84d09b5d6": {
             "type": "column",
             "yAxis": 0
            }
           },
           "showDataLabels": false,
           "sizemode": "diameter",
           "sortX": true,
           "sortY": true,
           "swappedAxes": false,
           "textFormat": "",
           "useAggregationsUi": true,
           "valuesOptions": {},
           "version": 2,
           "xAxis": {
            "labels": {
             "enabled": true
            },
            "title": {
             "text": "River"
            },
            "type": "-"
           },
           "yAxis": [
            {
             "title": {
              "text": "Station"
             },
             "type": "-"
            },
            {
             "opposite": true,
             "type": "-"
            }
           ]
          }
         }
        ]
       },
       "datasetPreviewNameToCmdIdMap": {},
       "diffDeletes": [],
       "diffInserts": [],
       "displayType": "redashChart",
       "error": null,
       "errorSummary": null,
       "errorTraceType": null,
       "finishTime": 0,
       "globalVars": {},
       "guid": "867de0a9-73ec-4202-909f-ee0bcc0356d6",
       "height": "auto",
       "hideCommandCode": false,
       "hideCommandResult": false,
       "iPythonMetadata": null,
       "inputWidgets": {},
       "isLockedInExamMode": false,
       "latestUser": "a user",
       "latestUserId": null,
       "listResultMetadata": null,
       "metadata": {},
       "nuid": "230c4a43-d855-4725-a051-b94eb29deb43",
       "origId": 4498304727291876,
       "parentHierarchy": [
        "63f733bf-e7ed-4f3d-ac6b-674f879d88fa"
       ],
       "pivotAggregation": null,
       "pivotColumns": null,
       "position": 2.5,
       "resultDbfsErrorMessage": null,
       "resultDbfsStatus": "INLINED_IN_TREE",
       "results": null,
       "showCommandTitle": false,
       "startTime": 0,
       "state": "input",
       "streamStates": {},
       "subcommandOptions": {
        "queryPlan": {
         "groups": [
          {
           "column": "Station",
           "type": "column"
          },
          {
           "column": "River",
           "type": "column"
          }
         ],
         "selects": [
          {
           "column": "Station",
           "type": "column"
          },
          {
           "alias": "column_84d09b5d6",
           "args": [
            {
             "column": "River",
             "type": "column"
            }
           ],
           "function": "COUNT",
           "type": "function"
          },
          {
           "column": "River",
           "type": "column"
          }
         ]
        }
       },
       "submitTime": 0,
       "subtype": "tableResultSubCmd.visualization",
       "tableResultIndex": 0,
       "useConsistentColors": false,
       "version": "CommandV1",
       "width": "auto",
       "workflows": [],
       "xColumns": null,
       "yColumns": null
      }
     },
     "output_type": "display_data"
    }
   ],
   "source": [
    "# Bar plot visualizing River and Station\n",
    "display(geo_data_df)"
   ]
  },
  {
   "attachments": {},
   "cell_type": "markdown",
   "metadata": {},
   "source": [
    "![Alt text](barplot-Data_Analysis%20-%20Databricks.png)"
   ]
  },
  {
   "cell_type": "code",
   "execution_count": null,
   "metadata": {
    "application/vnd.databricks.v1+cell": {
     "cellMetadata": {
      "byteLimit": 2048000,
      "rowLimit": 10000
     },
     "inputWidgets": {},
     "nuid": "846fe15a-8c0a-4ba9-9611-8576d005e3df",
     "showTitle": false,
     "title": ""
    }
   },
   "outputs": [
    {
     "data": {
      "text/html": [
       "<style scoped>\n",
       "  .table-result-container {\n",
       "    max-height: 300px;\n",
       "    overflow: auto;\n",
       "  }\n",
       "  table, th, td {\n",
       "    border: 1px solid black;\n",
       "    border-collapse: collapse;\n",
       "  }\n",
       "  th, td {\n",
       "    padding: 5px;\n",
       "  }\n",
       "  th {\n",
       "    text-align: left;\n",
       "  }\n",
       "</style><div class='table-result-container'><table class='table-result'><thead style='background-color: white'><tr><th>GRDC No.</th><th>River</th><th>Station</th><th>Latitude</th><th>Longitude</th><th>Catchment Area</th><th>Altitude (m ASL)</th></tr></thead><tbody><tr><td>6210100</td><td>RIO NERVION</td><td>ECHEVARRI</td><td>43.24813</td><td>-2.89438</td><td>997</td><td>18</td></tr><tr><td>6210210</td><td>TAMBRE</td><td>PORTOMOURD</td><td>42.93673</td><td>-8.65912</td><td>1526.2</td><td>1146</td></tr><tr><td>6210220</td><td>LENGUELLE</td><td>VILACIDE DE ARRBIA</td><td>42.98167</td><td>-8.46225</td><td>311</td><td>228</td></tr><tr><td>6210230</td><td>Tambre</td><td>Carolo</td><td>42.97602</td><td>-8.3775</td><td>561</td><td>240</td></tr><tr><td>6210310</td><td>EO</td><td>San Tirso de Abres</td><td>43.41203</td><td>-7.14513</td><td>712</td><td>21</td></tr><tr><td>6210320</td><td>EO</td><td>PONTENOVO</td><td>43.34766</td><td>-7.19211</td><td>572</td><td>23</td></tr><tr><td>6210330</td><td>EO</td><td>RIBEIRA DE PIQUIN</td><td>43.17761</td><td>-7.20004</td><td>346</td><td>241</td></tr><tr><td>6210410</td><td>NALON</td><td>GRULLOS</td><td>43.43154</td><td>-6.05836</td><td>2884</td><td>34</td></tr><tr><td>6210510</td><td>BIDASOA</td><td>ENDARLAZA</td><td>43.34384</td><td>-1.76099</td><td>681</td><td>29</td></tr><tr><td>6211050</td><td>MINO</td><td>SALVATIERRA DE MINO</td><td>42.07874</td><td>-8.49782</td><td>15678</td><td>24</td></tr><tr><td>6211100</td><td>MINO</td><td>ORENSE</td><td>42.35769</td><td>-7.8516</td><td>12810</td><td>95</td></tr><tr><td>6211150</td><td>MINO</td><td> ORENSE (VIA SATELLITE)</td><td>42.36032</td><td>-7.85179</td><td>12985</td><td>95</td></tr><tr><td>6211160</td><td>MINO</td><td>LUGO</td><td>43.0019</td><td>-7.56348</td><td>2303</td><td>362</td></tr><tr><td>6211170</td><td>MINO</td><td>LUGO</td><td>43.02449</td><td>-7.58797</td><td>2210</td><td>378</td></tr><tr><td>6211180</td><td>MINO</td><td>CELA (MARGEN DERECHA)</td><td>43.13925</td><td>-7.60455</td><td>999</td><td>382</td></tr><tr><td>6211185</td><td>MINO</td><td>CELA (MARGEN DERECHA)</td><td>43.13925</td><td>-7.60455</td><td>999</td><td>382</td></tr><tr><td>6211500</td><td>SIL</td><td> SAN PEDRO</td><td>42.45282</td><td>-7.7152</td><td>7982</td><td>120</td></tr><tr><td>6211520</td><td>SIL</td><td> BARCO DE VALDEORRAS</td><td>42.4127</td><td>-6.97725</td><td>4268</td><td>315</td></tr><tr><td>6211610</td><td>CUA</td><td>FABERO</td><td>42.78728</td><td>-6.62819</td><td>216</td><td>644</td></tr><tr><td>6211620</td><td>BOEZA</td><td>BOEZA</td><td>42.68353</td><td>-6.29401</td><td>106</td><td>827</td></tr><tr><td>6212320</td><td>TAMEGA</td><td>RABAL</td><td>41.84864</td><td>-7.43529</td><td>719</td><td>369</td></tr><tr><td>6212330</td><td>TAMEGA</td><td>CASTRELO DO VAL</td><td>41.99484</td><td>-7.44225</td><td>196</td><td>411</td></tr><tr><td>6212400</td><td>DOURO</td><td>VILLACHICA O SAN ANDRES</td><td>41.5</td><td>-5.48</td><td>41856</td><td>641</td></tr><tr><td>6212410</td><td>DOURO</td><td>TORO</td><td>41.51511</td><td>-5.41283</td><td>41808</td><td>637</td></tr><tr><td>6212420</td><td>DOURO</td><td> PUENTE PINO</td><td>41.58</td><td>-6.19</td><td>63160</td><td>-999</td></tr><tr><td>6212430</td><td>DOURO</td><td>SAUCELLE - DUERO</td><td>41.03101</td><td>-6.82071</td><td>75163</td><td>133</td></tr><tr><td>6212440</td><td>DOURO</td><td>CARRASCAL</td><td>41.48711</td><td>-5.81469</td><td>46700</td><td>619</td></tr><tr><td>6212450</td><td>DOURO</td><td>ZAMORA</td><td>41.51189</td><td>-5.72244</td><td>46137</td><td>628</td></tr><tr><td>6212460</td><td>DOURO</td><td>HERRERA DE DUERO</td><td>41.56543</td><td>-4.66628</td><td>12740</td><td>690</td></tr><tr><td>6212470</td><td>DOURO</td><td>GORMAZ</td><td>41.48765</td><td>-2.99506</td><td>5055</td><td>880</td></tr><tr><td>6212480</td><td>DOURO</td><td>MOLINOS DE DUERO</td><td>41.88747</td><td>-2.78759</td><td>135</td><td>1100</td></tr><tr><td>6212500</td><td>ESLA</td><td>BENAMARIEL</td><td>42.37436</td><td>-5.56125</td><td>3980</td><td>757</td></tr><tr><td>6212505</td><td>ESLA</td><td>BENAMARIEL - 2</td><td>42.36862</td><td>-5.5636</td><td>3980</td><td>757</td></tr><tr><td>6212510</td><td>ESLA</td><td>BRETO</td><td>41.87413</td><td>-5.76421</td><td>14263</td><td>691</td></tr><tr><td>6212515</td><td>ESLA</td><td>BRETO</td><td>41.87414</td><td>-5.76438</td><td>14420.1</td><td>685</td></tr><tr><td>6212550</td><td>BERNESGA</td><td>VILLAMANIN</td><td>42.94048</td><td>-5.66143</td><td>131.3</td><td>1125</td></tr><tr><td>6212610</td><td>VALDERADUEY</td><td>VILLAGODIO - 2</td><td>41.53618</td><td>-5.69874</td><td>3546</td><td>630</td></tr><tr><td>6212620</td><td>VALDERADUEY</td><td>BENEGILES</td><td>41.62382</td><td>-5.63227</td><td>3187.3</td><td>645</td></tr><tr><td>6212630</td><td>VALDERADUEY</td><td>SANTERVAS DE CAMPOS</td><td>42.21593</td><td>-5.09673</td><td>279.1</td><td>756</td></tr><tr><td>6212700</td><td>ARLANZA</td><td> PERAL DE ARLANZA</td><td>42.08</td><td>-4.07</td><td>2413</td><td>766</td></tr><tr><td>6212710</td><td>ARLANZA</td><td> QUINTANA DEL PUENTE</td><td>42.086448</td><td>-4.20781</td><td>5256</td><td>740</td></tr><tr><td>6212720</td><td>ARLANZA</td><td>SALAS DE LOS INFANTES</td><td>42.02359</td><td>-3.29035</td><td>349</td><td>958</td></tr><tr><td>6212740</td><td>PISUERGA</td><td>VALLADOLID-PISUERGA</td><td>41.65977</td><td>-4.73288</td><td>15638</td><td>690</td></tr><tr><td>6212750</td><td>PISUERGA</td><td>CORDOVILLA</td><td>42.13053</td><td>-4.24956</td><td>4227</td><td>740</td></tr><tr><td>6212760</td><td>PISUERGA</td><td>SAN SALVADOR DE CANTAMUDA</td><td>42.96465</td><td>-4.49023</td><td>144</td><td>1095</td></tr><tr><td>6212780</td><td>UCERO</td><td>OSMA</td><td>41.58228</td><td>-3.0754</td><td>900</td><td>890</td></tr><tr><td>6212810</td><td>AGUEDA</td><td>SAELICES EL CHICO</td><td>40.6968</td><td>-6.66088</td><td>1609</td><td>590</td></tr><tr><td>6212820</td><td>AGUEDA</td><td>CASTILLEJO MARTIN VIEJO</td><td>40.69691</td><td>-6.66063</td><td>1700</td><td>584</td></tr><tr><td>6212830</td><td>AGUEDA</td><td>ROBLEDA</td><td>40.42908</td><td>-6.60153</td><td>263</td><td>780</td></tr><tr><td>6212840</td><td>TORMES</td><td>SALAMANCA</td><td>40.95773</td><td>-5.64882</td><td>4010</td><td>780</td></tr><tr><td>6212850</td><td>ADAJA</td><td>VALDESTILLAS</td><td>41.48991</td><td>-4.76955</td><td>5202</td><td>693</td></tr><tr><td>6212860</td><td>DURATON</td><td>SEPULVEDA</td><td>41.30058</td><td>-3.73782</td><td>466.3</td><td>920</td></tr><tr><td>6212870</td><td>TORMES</td><td>HOYOS DEL ESPINO</td><td>40.33862</td><td>-5.17262</td><td>88</td><td>1377</td></tr><tr><td>6213500</td><td>TAGUS </td><td>ALCANTARA (PUENTE ROMANO)</td><td>39.724</td><td>-6.89188</td><td>51958</td><td>110</td></tr><tr><td>6213510</td><td>ALAGON</td><td>GARCIBUEY</td><td>40.4982</td><td>-5.94399</td><td>426</td><td>520</td></tr><tr><td>6213520</td><td>ALAGON</td><td>  GALISTEO</td><td>39.98153</td><td>-6.30487</td><td>2672</td><td>260</td></tr><tr><td>6213530</td><td>TIETAR</td><td> LA BAZAGONA</td><td>39.93297</td><td>-5.90479</td><td>4090</td><td>230</td></tr><tr><td>6213540</td><td>TIETAR</td><td>ARENAS DE SAN PEDRO</td><td>40.159</td><td>-5.01672</td><td>730</td><td>367</td></tr><tr><td>6213600</td><td> TAGUS</td><td>ALCANTARA</td><td>39.76458</td><td>-6.8019</td><td>46487</td><td>121</td></tr><tr><td>6213650</td><td>TAGUS</td><td>TALAVERA LA VISTILLA</td><td>39.94011</td><td>-4.84749</td><td>33859</td><td>357</td></tr><tr><td>6213700</td><td> TAGUS</td><td> TALAVERA</td><td>39.9571</td><td>-4.82941</td><td>33849</td><td>366</td></tr><tr><td>6213750</td><td>JARAMA</td><td>ARANJUEZ (PUENTE LARGO)</td><td>40.08626</td><td>-3.60796</td><td>11549</td><td>491</td></tr><tr><td>6213760</td><td>JARAMA</td><td>MATALLANA</td><td>41.053</td><td>-3.33091</td><td>143</td><td>940</td></tr><tr><td>6213770</td><td>JARAMA</td><td>PUENTE TITULCIA</td><td>40.13715</td><td>-3.58017</td><td>8890</td><td>498</td></tr><tr><td>6213780</td><td>JARAMA</td><td>MEJORADA DEL CAMPO</td><td>40.39521</td><td>-3.50944</td><td>7005</td><td>550</td></tr><tr><td>6213790</td><td>BADIEL</td><td>TORRE DEL BURGO</td><td>40.79684</td><td>-3.0812</td><td>333</td><td>716</td></tr><tr><td>6213792</td><td>LOZOYA</td><td>  EL PAULAR</td><td>40.84627</td><td>-3.8859</td><td>42</td><td>1270</td></tr><tr><td>6213794</td><td>GALLO</td><td>VENTOSA</td><td>40.82924</td><td>-1.96523</td><td>944</td><td>1016</td></tr><tr><td>6213800</td><td>TAGUS</td><td>TRILLO</td><td>40.69743</td><td>-2.58582</td><td>3253</td><td>727</td></tr><tr><td>6213850</td><td>TAGUS</td><td>EMBOCADOR</td><td>40.04181</td><td>-3.56996</td><td>9312</td><td>497</td></tr><tr><td>6213900</td><td>TAGUS</td><td>PERALEJOS DE LAS TRUCHAS</td><td>40.59903</td><td>-1.95419</td><td>410</td><td>1143</td></tr><tr><td>6216500</td><td>GUADIANA</td><td>PUENTE DE PALMAS</td><td>38.88</td><td>-6.97</td><td>48515</td><td>-999</td></tr><tr><td>6216510</td><td>GUADIANA</td><td>AZUD DE BADAJOZ</td><td>38.86199</td><td>-7.01754</td><td>48530</td><td>166</td></tr><tr><td>6216520</td><td>GUADIANA</td><td>VILLARRUBIA</td><td>39.19801</td><td>-3.59073</td><td>10319</td><td>628</td></tr><tr><td>6216530</td><td>GUADIANA</td><td>LA CUBETA</td><td>38.97169</td><td>-2.88906</td><td>856</td><td>758</td></tr><tr><td>6216610</td><td>ZUJAR</td><td>VILLANUEVA DE LA SERENA</td><td>39.0003</td><td>-5.75856</td><td>8508</td><td>250</td></tr><tr><td>6216630</td><td>ZUJAR</td><td>ZUJAR</td><td>38.90985</td><td>-5.49226</td><td>7640</td><td>279</td></tr><tr><td>6216650</td><td>GUALEMAR</td><td>SERENA (GUADALEMAR)</td><td>39.04246</td><td>-4.97835</td><td>324</td><td>444</td></tr><tr><td>6216700</td><td>JABALON</td><td>PUENTE MORENA</td><td>38.871389</td><td>-3.891563</td><td>2337</td><td>580</td></tr><tr><td>6216800</td><td>GIGUELA</td><td>QUINTANAR DE LA ORDEN</td><td>39.64264</td><td>-3.081</td><td>995</td><td>694</td></tr><tr><td>6216810</td><td>GIGUELA</td><td>VILLAFRANCA DE LOS CABALLEROS</td><td>39.415</td><td>-3.30998</td><td>2557</td><td>642</td></tr><tr><td>6216820</td><td>GIGUELA</td><td>SAELICES</td><td>39.88359</td><td>-2.8009</td><td>552</td><td>787</td></tr><tr><td>6217100</td><td>GUADALQUIVIR</td><td>ALCALA DEL RIO</td><td>37.51844</td><td>-5.97639</td><td>46134</td><td>10</td></tr><tr><td>6217110</td><td>GUADALQUIVIR</td><td>CANTILLANA</td><td>37.59278</td><td>-5.81185</td><td>44002</td><td>12</td></tr><tr><td>6217120</td><td>GUADALQUIVIR</td><td>SEVILLA</td><td>37.35066</td><td>-6.02206</td><td>48548</td><td>9</td></tr><tr><td>6217135</td><td>GUADALQUIVIR</td><td>CORDOBA</td><td>37.87936</td><td>-4.77485</td><td>24704</td><td>86</td></tr><tr><td>6217140</td><td>GUADALQUIVIR</td><td> MENGIBAR</td><td>37.98425</td><td>-3.79939</td><td>16166</td><td>240</td></tr><tr><td>6217150</td><td>GUADALQUIVIR</td><td>PUENTE CERRADA</td><td>37.95916</td><td>-3.18981</td><td>1330</td><td>341</td></tr><tr><td>6217200</td><td>GUADALQUIVIR</td><td>ARROYO MARIA</td><td>38.17905</td><td>-2.83594</td><td>583</td><td>538</td></tr><tr><td>6217300</td><td>GENIL</td><td>ECIJA</td><td>37.55806</td><td>-5.07775</td><td>8028</td><td>104</td></tr><tr><td>6217400</td><td>GUADALIMAR</td><td>CARR. TORREBLASCOPEDRO</td><td>38.01643</td><td>-3.63666</td><td>5131</td><td>256</td></tr><tr><td>6217500</td><td>GUADIANA MENOR</td><td>POSITO</td><td>37.88131</td><td>-3.21164</td><td>6349</td><td>383</td></tr><tr><td>6217600</td><td>GUARDAL</td><td>EL DOCTOR</td><td>37.88908</td><td>-2.67431</td><td>28</td><td>1064</td></tr><tr><td>6217700</td><td>FRAILES</td><td>PINOS PUENTE</td><td>37.25869</td><td>-3.76895</td><td>357</td><td>561</td></tr><tr><td>6217800</td><td>GUADIAMAR</td><td> AZNALCAZAR PUENTE</td><td>37.30286</td><td>-6.25986</td><td>960</td><td>21</td></tr><tr><td>6226100</td><td>EBRO</td><td>ARROYO</td><td>42.9627</td><td>-4.05846</td><td>812</td><td>469</td></tr><tr><td>6226200</td><td>EBRO</td><td>MIRANDA DE EBRO</td><td>42.68765</td><td>-2.95553</td><td>5481</td><td>459</td></tr><tr><td>6226210</td><td>JEREA</td><td>VIRUES</td><td>42.80807</td><td>-3.35733</td><td>290</td><td>532</td></tr><tr><td>6226220</td><td>OCA</td><td>ONA</td><td>42.73532</td><td>-3.41395</td><td>1051</td><td>570</td></tr><tr><td>6226230</td><td>NELA</td><td>TRESPADERNE</td><td>42.79986</td><td>-3.39415</td><td>1093</td><td>540</td></tr><tr><td>6226250</td><td>NELA</td><td>VILLARCAYO</td><td>42.94659</td><td>-3.57335</td><td>262</td><td>597</td></tr><tr><td>6226300</td><td>EBRO</td><td> CASTEJON</td><td>42.18008</td><td>-1.69474</td><td>25194</td><td>265</td></tr><tr><td>6226310</td><td>ARAGON</td><td>CAPARROSO</td><td>42.34535</td><td>-1.64761</td><td>5469</td><td>302</td></tr><tr><td>6226350</td><td>ULZAMA</td><td>OLAVE</td><td>42.88354</td><td>-1.60594</td><td>240</td><td>465</td></tr><tr><td>6226390</td><td>ARAGON</td><td>CANFRANC ANTIGUO</td><td>42.71978</td><td>-0.52518</td><td>101</td><td>1040</td></tr><tr><td>6226400</td><td>EBRO</td><td>ZARAGOZA</td><td>41.65857</td><td>-0.88106</td><td>40434</td><td>189</td></tr><tr><td>6226420</td><td>HUERVA</td><td>ZARAGOZA</td><td>41.63706</td><td>-0.89788</td><td>1017</td><td>203</td></tr><tr><td>6226430</td><td>GALLEGO</td><td>ZARAGOZA</td><td>41.66878</td><td>-0.8417</td><td>4008</td><td>197</td></tr><tr><td>6226440</td><td>JALON</td><td>GRISEN</td><td>41.73411</td><td>-1.17489</td><td>9694</td><td>250</td></tr><tr><td>6226450</td><td>ARBA DE LUESIA</td><td>TAUSTE</td><td>41.91296</td><td>-1.28009</td><td>2193</td><td>243</td></tr><tr><td>6226460</td><td>JALON</td><td>JUBERA</td><td>41.19659</td><td>-2.33844</td><td>196</td><td>892</td></tr><tr><td>6226470</td><td>ARBA DE LUESIA</td><td>BIOTA</td><td>42.26199</td><td>-1.19189</td><td>144</td><td>476</td></tr><tr><td>6226480</td><td>JILOCA</td><td>CALAMOCHA</td><td>40.92019</td><td>-1.30242</td><td>1498</td><td>883</td></tr><tr><td>6226490</td><td>GALLEGO</td><td>SALLENT DE GALLEGO</td><td>42.76875</td><td>-0.33491</td><td>1350</td><td>44</td></tr><tr><td>6226500</td><td>FORTANETE</td><td>PITARQUE</td><td>40.50333</td><td>-0.52275</td><td>284</td><td>990</td></tr><tr><td>6226550</td><td>GUADALOPE</td><td>CASPE</td><td>41.24529</td><td>0.00103</td><td>3845</td><td>128</td></tr><tr><td>6226600</td><td>SEGRE</td><td>SEROS</td><td>41.45289</td><td>0.41971</td><td>12782</td><td>85</td></tr><tr><td>6226640</td><td>SEGRE</td><td>PUIGCERDA</td><td>42.42349</td><td>1.93329</td><td>297</td><td>1120</td></tr><tr><td>6226650</td><td>CINCA</td><td>FRAGA</td><td>41.52445</td><td>0.34657</td><td>9612</td><td>100</td></tr><tr><td>6226690</td><td>CINCA</td><td>LAFORTUNADA</td><td>42.54271</td><td>0.19518</td><td>453</td><td>700</td></tr><tr><td>6226700</td><td>VERO</td><td>LECINA DE BARCABO</td><td>42.22018</td><td>0.04365</td><td>110</td><td>630</td></tr><tr><td>6226800</td><td>EBRO</td><td>TORTOSA</td><td>40.81328</td><td>0.52066</td><td>84230</td><td>25</td></tr><tr><td>6227100</td><td>GUADALHORCE</td><td>BOBADILLA</td><td>37.05</td><td>-4.7</td><td>761</td><td>370</td></tr><tr><td>6227130</td><td>TURIA</td><td>LA PRESA</td><td>39.51777</td><td>-0.50406</td><td>6294</td><td>50</td></tr><tr><td>6227150</td><td>TURIA</td><td>TERUEL</td><td>40.34311</td><td>-1.11142</td><td>2357</td><td>851</td></tr><tr><td>6227160</td><td>ALFAMBRA</td><td>VILLALBA ALTA</td><td>40.61675</td><td>-0.97426</td><td>478</td><td>1060</td></tr><tr><td>6227170</td><td>TURIA</td><td>TRAMACASTILLA</td><td>40.42774</td><td>-1.56014</td><td>95</td><td>1278</td></tr><tr><td>6227300</td><td>NACIMIENTO</td><td>EL CHONO</td><td>37.08</td><td>-2.63</td><td>616</td><td>512</td></tr><tr><td>6227410</td><td>SEGURA</td><td>ROJALES</td><td>38.08919</td><td>-0.72155</td><td>14894</td><td>12</td></tr><tr><td>6227420</td><td>SEGURA</td><td>ROJALES (NUEVA )</td><td>38.09135</td><td>-0.71314</td><td>14331</td><td>9</td></tr><tr><td>6227430</td><td>SEGURA</td><td>CALASPARRA</td><td>38.24651</td><td>-1.6943</td><td>5713</td><td>258</td></tr><tr><td>6227440</td><td>SEGURA</td><td>PUENTE DEL BAYO</td><td>38.28552</td><td>-1.68971</td><td>5137</td><td>300</td></tr><tr><td>6227500</td><td>JUCAR</td><td>MASIA DE POMPO</td><td>39.12558</td><td>-0.64545</td><td>17821</td><td>54</td></tr><tr><td>6227510</td><td>JUCAR</td><td>HUERTO MULET</td><td>39.18695</td><td>-0.41044</td><td>21497</td><td>18</td></tr><tr><td>6227520</td><td>JUCAR</td><td>ALCALA DEL JUCAR</td><td>39.19421</td><td>-1.42779</td><td>10785</td><td>520</td></tr><tr><td>6227530</td><td>JUCAR</td><td>VENTA DE JUAN ROMERO</td><td>40.225</td><td>-1.84415</td><td>250</td><td>1170</td></tr><tr><td>6227610</td><td>MIJARES</td><td>VILLARREAL</td><td>39.9613</td><td>-0.11924</td><td>2504</td><td>50</td></tr><tr><td>6227620</td><td>MIJARES</td><td> EL TERDE</td><td>40.16094</td><td>-0.76986</td><td>665</td><td>845</td></tr><tr><td>6228600</td><td>BESOS</td><td>SANTA COLOMA DE GRAMENET</td><td>41.450598</td><td>2.200589</td><td>1036</td><td>-999</td></tr><tr><td>6228700</td><td>MOUGA</td><td>CASTELLO D'EMPURIES</td><td>42.254381</td><td>3.071999</td><td>-999</td><td>-999</td></tr><tr><td>6228800</td><td>LLOBREGAT</td><td>MARTORELL</td><td>41.468569</td><td>1.947855</td><td>4561</td><td>44</td></tr><tr><td>6228810</td><td>LLOBREGAT</td><td>SANT JOAN DESPI</td><td>41.351811</td><td>2.0466</td><td>4880</td><td>-999</td></tr><tr><td>6228820</td><td>LLOBREGAT</td><td>SANT VICENC DELS HORTS</td><td>41.386565</td><td>2.023356</td><td>-999</td><td>-999</td></tr><tr><td>6228850</td><td>BESOS</td><td>SIFON N.A.</td><td>41.450598</td><td>2.200589</td><td>1036</td><td>-999</td></tr><tr><td>6228900</td><td>TER</td><td>RODA DE TER</td><td>41.98</td><td>2.32</td><td>1390</td><td>428</td></tr><tr><td>6228910</td><td>TER</td><td>LES MASIES DE RODA</td><td>41.984207</td><td>2.301072</td><td>1390</td><td>-999</td></tr><tr><td>6228920</td><td>TER</td><td>TORROELLA DE MONTGRI</td><td>42.035163</td><td>3.125381</td><td>-999</td><td>-999</td></tr></tbody></table></div>"
      ]
     },
     "metadata": {
      "application/vnd.databricks.v1+output": {
       "addedWidgets": {},
       "aggData": [],
       "aggError": "",
       "aggOverflow": false,
       "aggSchema": [],
       "aggSeriesLimitReached": false,
       "aggType": "",
       "arguments": {},
       "columnCustomDisplayInfos": {},
       "data": [
        [
         "6210100",
         "RIO NERVION",
         "ECHEVARRI",
         "43.24813",
         "-2.89438",
         "997",
         "18"
        ],
        [
         "6210210",
         "TAMBRE",
         "PORTOMOURD",
         "42.93673",
         "-8.65912",
         "1526.2",
         "1146"
        ],
        [
         "6210220",
         "LENGUELLE",
         "VILACIDE DE ARRBIA",
         "42.98167",
         "-8.46225",
         "311",
         "228"
        ],
        [
         "6210230",
         "Tambre",
         "Carolo",
         "42.97602",
         "-8.3775",
         "561",
         "240"
        ],
        [
         "6210310",
         "EO",
         "San Tirso de Abres",
         "43.41203",
         "-7.14513",
         "712",
         "21"
        ],
        [
         "6210320",
         "EO",
         "PONTENOVO",
         "43.34766",
         "-7.19211",
         "572",
         "23"
        ],
        [
         "6210330",
         "EO",
         "RIBEIRA DE PIQUIN",
         "43.17761",
         "-7.20004",
         "346",
         "241"
        ],
        [
         "6210410",
         "NALON",
         "GRULLOS",
         "43.43154",
         "-6.05836",
         "2884",
         "34"
        ],
        [
         "6210510",
         "BIDASOA",
         "ENDARLAZA",
         "43.34384",
         "-1.76099",
         "681",
         "29"
        ],
        [
         "6211050",
         "MINO",
         "SALVATIERRA DE MINO",
         "42.07874",
         "-8.49782",
         "15678",
         "24"
        ],
        [
         "6211100",
         "MINO",
         "ORENSE",
         "42.35769",
         "-7.8516",
         "12810",
         "95"
        ],
        [
         "6211150",
         "MINO",
         " ORENSE (VIA SATELLITE)",
         "42.36032",
         "-7.85179",
         "12985",
         "95"
        ],
        [
         "6211160",
         "MINO",
         "LUGO",
         "43.0019",
         "-7.56348",
         "2303",
         "362"
        ],
        [
         "6211170",
         "MINO",
         "LUGO",
         "43.02449",
         "-7.58797",
         "2210",
         "378"
        ],
        [
         "6211180",
         "MINO",
         "CELA (MARGEN DERECHA)",
         "43.13925",
         "-7.60455",
         "999",
         "382"
        ],
        [
         "6211185",
         "MINO",
         "CELA (MARGEN DERECHA)",
         "43.13925",
         "-7.60455",
         "999",
         "382"
        ],
        [
         "6211500",
         "SIL",
         " SAN PEDRO",
         "42.45282",
         "-7.7152",
         "7982",
         "120"
        ],
        [
         "6211520",
         "SIL",
         " BARCO DE VALDEORRAS",
         "42.4127",
         "-6.97725",
         "4268",
         "315"
        ],
        [
         "6211610",
         "CUA",
         "FABERO",
         "42.78728",
         "-6.62819",
         "216",
         "644"
        ],
        [
         "6211620",
         "BOEZA",
         "BOEZA",
         "42.68353",
         "-6.29401",
         "106",
         "827"
        ],
        [
         "6212320",
         "TAMEGA",
         "RABAL",
         "41.84864",
         "-7.43529",
         "719",
         "369"
        ],
        [
         "6212330",
         "TAMEGA",
         "CASTRELO DO VAL",
         "41.99484",
         "-7.44225",
         "196",
         "411"
        ],
        [
         "6212400",
         "DOURO",
         "VILLACHICA O SAN ANDRES",
         "41.5",
         "-5.48",
         "41856",
         "641"
        ],
        [
         "6212410",
         "DOURO",
         "TORO",
         "41.51511",
         "-5.41283",
         "41808",
         "637"
        ],
        [
         "6212420",
         "DOURO",
         " PUENTE PINO",
         "41.58",
         "-6.19",
         "63160",
         "-999"
        ],
        [
         "6212430",
         "DOURO",
         "SAUCELLE - DUERO",
         "41.03101",
         "-6.82071",
         "75163",
         "133"
        ],
        [
         "6212440",
         "DOURO",
         "CARRASCAL",
         "41.48711",
         "-5.81469",
         "46700",
         "619"
        ],
        [
         "6212450",
         "DOURO",
         "ZAMORA",
         "41.51189",
         "-5.72244",
         "46137",
         "628"
        ],
        [
         "6212460",
         "DOURO",
         "HERRERA DE DUERO",
         "41.56543",
         "-4.66628",
         "12740",
         "690"
        ],
        [
         "6212470",
         "DOURO",
         "GORMAZ",
         "41.48765",
         "-2.99506",
         "5055",
         "880"
        ],
        [
         "6212480",
         "DOURO",
         "MOLINOS DE DUERO",
         "41.88747",
         "-2.78759",
         "135",
         "1100"
        ],
        [
         "6212500",
         "ESLA",
         "BENAMARIEL",
         "42.37436",
         "-5.56125",
         "3980",
         "757"
        ],
        [
         "6212505",
         "ESLA",
         "BENAMARIEL - 2",
         "42.36862",
         "-5.5636",
         "3980",
         "757"
        ],
        [
         "6212510",
         "ESLA",
         "BRETO",
         "41.87413",
         "-5.76421",
         "14263",
         "691"
        ],
        [
         "6212515",
         "ESLA",
         "BRETO",
         "41.87414",
         "-5.76438",
         "14420.1",
         "685"
        ],
        [
         "6212550",
         "BERNESGA",
         "VILLAMANIN",
         "42.94048",
         "-5.66143",
         "131.3",
         "1125"
        ],
        [
         "6212610",
         "VALDERADUEY",
         "VILLAGODIO - 2",
         "41.53618",
         "-5.69874",
         "3546",
         "630"
        ],
        [
         "6212620",
         "VALDERADUEY",
         "BENEGILES",
         "41.62382",
         "-5.63227",
         "3187.3",
         "645"
        ],
        [
         "6212630",
         "VALDERADUEY",
         "SANTERVAS DE CAMPOS",
         "42.21593",
         "-5.09673",
         "279.1",
         "756"
        ],
        [
         "6212700",
         "ARLANZA",
         " PERAL DE ARLANZA",
         "42.08",
         "-4.07",
         "2413",
         "766"
        ],
        [
         "6212710",
         "ARLANZA",
         " QUINTANA DEL PUENTE",
         "42.086448",
         "-4.20781",
         "5256",
         "740"
        ],
        [
         "6212720",
         "ARLANZA",
         "SALAS DE LOS INFANTES",
         "42.02359",
         "-3.29035",
         "349",
         "958"
        ],
        [
         "6212740",
         "PISUERGA",
         "VALLADOLID-PISUERGA",
         "41.65977",
         "-4.73288",
         "15638",
         "690"
        ],
        [
         "6212750",
         "PISUERGA",
         "CORDOVILLA",
         "42.13053",
         "-4.24956",
         "4227",
         "740"
        ],
        [
         "6212760",
         "PISUERGA",
         "SAN SALVADOR DE CANTAMUDA",
         "42.96465",
         "-4.49023",
         "144",
         "1095"
        ],
        [
         "6212780",
         "UCERO",
         "OSMA",
         "41.58228",
         "-3.0754",
         "900",
         "890"
        ],
        [
         "6212810",
         "AGUEDA",
         "SAELICES EL CHICO",
         "40.6968",
         "-6.66088",
         "1609",
         "590"
        ],
        [
         "6212820",
         "AGUEDA",
         "CASTILLEJO MARTIN VIEJO",
         "40.69691",
         "-6.66063",
         "1700",
         "584"
        ],
        [
         "6212830",
         "AGUEDA",
         "ROBLEDA",
         "40.42908",
         "-6.60153",
         "263",
         "780"
        ],
        [
         "6212840",
         "TORMES",
         "SALAMANCA",
         "40.95773",
         "-5.64882",
         "4010",
         "780"
        ],
        [
         "6212850",
         "ADAJA",
         "VALDESTILLAS",
         "41.48991",
         "-4.76955",
         "5202",
         "693"
        ],
        [
         "6212860",
         "DURATON",
         "SEPULVEDA",
         "41.30058",
         "-3.73782",
         "466.3",
         "920"
        ],
        [
         "6212870",
         "TORMES",
         "HOYOS DEL ESPINO",
         "40.33862",
         "-5.17262",
         "88",
         "1377"
        ],
        [
         "6213500",
         "TAGUS ",
         "ALCANTARA (PUENTE ROMANO)",
         "39.724",
         "-6.89188",
         "51958",
         "110"
        ],
        [
         "6213510",
         "ALAGON",
         "GARCIBUEY",
         "40.4982",
         "-5.94399",
         "426",
         "520"
        ],
        [
         "6213520",
         "ALAGON",
         "  GALISTEO",
         "39.98153",
         "-6.30487",
         "2672",
         "260"
        ],
        [
         "6213530",
         "TIETAR",
         " LA BAZAGONA",
         "39.93297",
         "-5.90479",
         "4090",
         "230"
        ],
        [
         "6213540",
         "TIETAR",
         "ARENAS DE SAN PEDRO",
         "40.159",
         "-5.01672",
         "730",
         "367"
        ],
        [
         "6213600",
         " TAGUS",
         "ALCANTARA",
         "39.76458",
         "-6.8019",
         "46487",
         "121"
        ],
        [
         "6213650",
         "TAGUS",
         "TALAVERA LA VISTILLA",
         "39.94011",
         "-4.84749",
         "33859",
         "357"
        ],
        [
         "6213700",
         " TAGUS",
         " TALAVERA",
         "39.9571",
         "-4.82941",
         "33849",
         "366"
        ],
        [
         "6213750",
         "JARAMA",
         "ARANJUEZ (PUENTE LARGO)",
         "40.08626",
         "-3.60796",
         "11549",
         "491"
        ],
        [
         "6213760",
         "JARAMA",
         "MATALLANA",
         "41.053",
         "-3.33091",
         "143",
         "940"
        ],
        [
         "6213770",
         "JARAMA",
         "PUENTE TITULCIA",
         "40.13715",
         "-3.58017",
         "8890",
         "498"
        ],
        [
         "6213780",
         "JARAMA",
         "MEJORADA DEL CAMPO",
         "40.39521",
         "-3.50944",
         "7005",
         "550"
        ],
        [
         "6213790",
         "BADIEL",
         "TORRE DEL BURGO",
         "40.79684",
         "-3.0812",
         "333",
         "716"
        ],
        [
         "6213792",
         "LOZOYA",
         "  EL PAULAR",
         "40.84627",
         "-3.8859",
         "42",
         "1270"
        ],
        [
         "6213794",
         "GALLO",
         "VENTOSA",
         "40.82924",
         "-1.96523",
         "944",
         "1016"
        ],
        [
         "6213800",
         "TAGUS",
         "TRILLO",
         "40.69743",
         "-2.58582",
         "3253",
         "727"
        ],
        [
         "6213850",
         "TAGUS",
         "EMBOCADOR",
         "40.04181",
         "-3.56996",
         "9312",
         "497"
        ],
        [
         "6213900",
         "TAGUS",
         "PERALEJOS DE LAS TRUCHAS",
         "40.59903",
         "-1.95419",
         "410",
         "1143"
        ],
        [
         "6216500",
         "GUADIANA",
         "PUENTE DE PALMAS",
         "38.88",
         "-6.97",
         "48515",
         "-999"
        ],
        [
         "6216510",
         "GUADIANA",
         "AZUD DE BADAJOZ",
         "38.86199",
         "-7.01754",
         "48530",
         "166"
        ],
        [
         "6216520",
         "GUADIANA",
         "VILLARRUBIA",
         "39.19801",
         "-3.59073",
         "10319",
         "628"
        ],
        [
         "6216530",
         "GUADIANA",
         "LA CUBETA",
         "38.97169",
         "-2.88906",
         "856",
         "758"
        ],
        [
         "6216610",
         "ZUJAR",
         "VILLANUEVA DE LA SERENA",
         "39.0003",
         "-5.75856",
         "8508",
         "250"
        ],
        [
         "6216630",
         "ZUJAR",
         "ZUJAR",
         "38.90985",
         "-5.49226",
         "7640",
         "279"
        ],
        [
         "6216650",
         "GUALEMAR",
         "SERENA (GUADALEMAR)",
         "39.04246",
         "-4.97835",
         "324",
         "444"
        ],
        [
         "6216700",
         "JABALON",
         "PUENTE MORENA",
         "38.871389",
         "-3.891563",
         "2337",
         "580"
        ],
        [
         "6216800",
         "GIGUELA",
         "QUINTANAR DE LA ORDEN",
         "39.64264",
         "-3.081",
         "995",
         "694"
        ],
        [
         "6216810",
         "GIGUELA",
         "VILLAFRANCA DE LOS CABALLEROS",
         "39.415",
         "-3.30998",
         "2557",
         "642"
        ],
        [
         "6216820",
         "GIGUELA",
         "SAELICES",
         "39.88359",
         "-2.8009",
         "552",
         "787"
        ],
        [
         "6217100",
         "GUADALQUIVIR",
         "ALCALA DEL RIO",
         "37.51844",
         "-5.97639",
         "46134",
         "10"
        ],
        [
         "6217110",
         "GUADALQUIVIR",
         "CANTILLANA",
         "37.59278",
         "-5.81185",
         "44002",
         "12"
        ],
        [
         "6217120",
         "GUADALQUIVIR",
         "SEVILLA",
         "37.35066",
         "-6.02206",
         "48548",
         "9"
        ],
        [
         "6217135",
         "GUADALQUIVIR",
         "CORDOBA",
         "37.87936",
         "-4.77485",
         "24704",
         "86"
        ],
        [
         "6217140",
         "GUADALQUIVIR",
         " MENGIBAR",
         "37.98425",
         "-3.79939",
         "16166",
         "240"
        ],
        [
         "6217150",
         "GUADALQUIVIR",
         "PUENTE CERRADA",
         "37.95916",
         "-3.18981",
         "1330",
         "341"
        ],
        [
         "6217200",
         "GUADALQUIVIR",
         "ARROYO MARIA",
         "38.17905",
         "-2.83594",
         "583",
         "538"
        ],
        [
         "6217300",
         "GENIL",
         "ECIJA",
         "37.55806",
         "-5.07775",
         "8028",
         "104"
        ],
        [
         "6217400",
         "GUADALIMAR",
         "CARR. TORREBLASCOPEDRO",
         "38.01643",
         "-3.63666",
         "5131",
         "256"
        ],
        [
         "6217500",
         "GUADIANA MENOR",
         "POSITO",
         "37.88131",
         "-3.21164",
         "6349",
         "383"
        ],
        [
         "6217600",
         "GUARDAL",
         "EL DOCTOR",
         "37.88908",
         "-2.67431",
         "28",
         "1064"
        ],
        [
         "6217700",
         "FRAILES",
         "PINOS PUENTE",
         "37.25869",
         "-3.76895",
         "357",
         "561"
        ],
        [
         "6217800",
         "GUADIAMAR",
         " AZNALCAZAR PUENTE",
         "37.30286",
         "-6.25986",
         "960",
         "21"
        ],
        [
         "6226100",
         "EBRO",
         "ARROYO",
         "42.9627",
         "-4.05846",
         "812",
         "469"
        ],
        [
         "6226200",
         "EBRO",
         "MIRANDA DE EBRO",
         "42.68765",
         "-2.95553",
         "5481",
         "459"
        ],
        [
         "6226210",
         "JEREA",
         "VIRUES",
         "42.80807",
         "-3.35733",
         "290",
         "532"
        ],
        [
         "6226220",
         "OCA",
         "ONA",
         "42.73532",
         "-3.41395",
         "1051",
         "570"
        ],
        [
         "6226230",
         "NELA",
         "TRESPADERNE",
         "42.79986",
         "-3.39415",
         "1093",
         "540"
        ],
        [
         "6226250",
         "NELA",
         "VILLARCAYO",
         "42.94659",
         "-3.57335",
         "262",
         "597"
        ],
        [
         "6226300",
         "EBRO",
         " CASTEJON",
         "42.18008",
         "-1.69474",
         "25194",
         "265"
        ],
        [
         "6226310",
         "ARAGON",
         "CAPARROSO",
         "42.34535",
         "-1.64761",
         "5469",
         "302"
        ],
        [
         "6226350",
         "ULZAMA",
         "OLAVE",
         "42.88354",
         "-1.60594",
         "240",
         "465"
        ],
        [
         "6226390",
         "ARAGON",
         "CANFRANC ANTIGUO",
         "42.71978",
         "-0.52518",
         "101",
         "1040"
        ],
        [
         "6226400",
         "EBRO",
         "ZARAGOZA",
         "41.65857",
         "-0.88106",
         "40434",
         "189"
        ],
        [
         "6226420",
         "HUERVA",
         "ZARAGOZA",
         "41.63706",
         "-0.89788",
         "1017",
         "203"
        ],
        [
         "6226430",
         "GALLEGO",
         "ZARAGOZA",
         "41.66878",
         "-0.8417",
         "4008",
         "197"
        ],
        [
         "6226440",
         "JALON",
         "GRISEN",
         "41.73411",
         "-1.17489",
         "9694",
         "250"
        ],
        [
         "6226450",
         "ARBA DE LUESIA",
         "TAUSTE",
         "41.91296",
         "-1.28009",
         "2193",
         "243"
        ],
        [
         "6226460",
         "JALON",
         "JUBERA",
         "41.19659",
         "-2.33844",
         "196",
         "892"
        ],
        [
         "6226470",
         "ARBA DE LUESIA",
         "BIOTA",
         "42.26199",
         "-1.19189",
         "144",
         "476"
        ],
        [
         "6226480",
         "JILOCA",
         "CALAMOCHA",
         "40.92019",
         "-1.30242",
         "1498",
         "883"
        ],
        [
         "6226490",
         "GALLEGO",
         "SALLENT DE GALLEGO",
         "42.76875",
         "-0.33491",
         "1350",
         "44"
        ],
        [
         "6226500",
         "FORTANETE",
         "PITARQUE",
         "40.50333",
         "-0.52275",
         "284",
         "990"
        ],
        [
         "6226550",
         "GUADALOPE",
         "CASPE",
         "41.24529",
         "0.00103",
         "3845",
         "128"
        ],
        [
         "6226600",
         "SEGRE",
         "SEROS",
         "41.45289",
         "0.41971",
         "12782",
         "85"
        ],
        [
         "6226640",
         "SEGRE",
         "PUIGCERDA",
         "42.42349",
         "1.93329",
         "297",
         "1120"
        ],
        [
         "6226650",
         "CINCA",
         "FRAGA",
         "41.52445",
         "0.34657",
         "9612",
         "100"
        ],
        [
         "6226690",
         "CINCA",
         "LAFORTUNADA",
         "42.54271",
         "0.19518",
         "453",
         "700"
        ],
        [
         "6226700",
         "VERO",
         "LECINA DE BARCABO",
         "42.22018",
         "0.04365",
         "110",
         "630"
        ],
        [
         "6226800",
         "EBRO",
         "TORTOSA",
         "40.81328",
         "0.52066",
         "84230",
         "25"
        ],
        [
         "6227100",
         "GUADALHORCE",
         "BOBADILLA",
         "37.05",
         "-4.7",
         "761",
         "370"
        ],
        [
         "6227130",
         "TURIA",
         "LA PRESA",
         "39.51777",
         "-0.50406",
         "6294",
         "50"
        ],
        [
         "6227150",
         "TURIA",
         "TERUEL",
         "40.34311",
         "-1.11142",
         "2357",
         "851"
        ],
        [
         "6227160",
         "ALFAMBRA",
         "VILLALBA ALTA",
         "40.61675",
         "-0.97426",
         "478",
         "1060"
        ],
        [
         "6227170",
         "TURIA",
         "TRAMACASTILLA",
         "40.42774",
         "-1.56014",
         "95",
         "1278"
        ],
        [
         "6227300",
         "NACIMIENTO",
         "EL CHONO",
         "37.08",
         "-2.63",
         "616",
         "512"
        ],
        [
         "6227410",
         "SEGURA",
         "ROJALES",
         "38.08919",
         "-0.72155",
         "14894",
         "12"
        ],
        [
         "6227420",
         "SEGURA",
         "ROJALES (NUEVA )",
         "38.09135",
         "-0.71314",
         "14331",
         "9"
        ],
        [
         "6227430",
         "SEGURA",
         "CALASPARRA",
         "38.24651",
         "-1.6943",
         "5713",
         "258"
        ],
        [
         "6227440",
         "SEGURA",
         "PUENTE DEL BAYO",
         "38.28552",
         "-1.68971",
         "5137",
         "300"
        ],
        [
         "6227500",
         "JUCAR",
         "MASIA DE POMPO",
         "39.12558",
         "-0.64545",
         "17821",
         "54"
        ],
        [
         "6227510",
         "JUCAR",
         "HUERTO MULET",
         "39.18695",
         "-0.41044",
         "21497",
         "18"
        ],
        [
         "6227520",
         "JUCAR",
         "ALCALA DEL JUCAR",
         "39.19421",
         "-1.42779",
         "10785",
         "520"
        ],
        [
         "6227530",
         "JUCAR",
         "VENTA DE JUAN ROMERO",
         "40.225",
         "-1.84415",
         "250",
         "1170"
        ],
        [
         "6227610",
         "MIJARES",
         "VILLARREAL",
         "39.9613",
         "-0.11924",
         "2504",
         "50"
        ],
        [
         "6227620",
         "MIJARES",
         " EL TERDE",
         "40.16094",
         "-0.76986",
         "665",
         "845"
        ],
        [
         "6228600",
         "BESOS",
         "SANTA COLOMA DE GRAMENET",
         "41.450598",
         "2.200589",
         "1036",
         "-999"
        ],
        [
         "6228700",
         "MOUGA",
         "CASTELLO D'EMPURIES",
         "42.254381",
         "3.071999",
         "-999",
         "-999"
        ],
        [
         "6228800",
         "LLOBREGAT",
         "MARTORELL",
         "41.468569",
         "1.947855",
         "4561",
         "44"
        ],
        [
         "6228810",
         "LLOBREGAT",
         "SANT JOAN DESPI",
         "41.351811",
         "2.0466",
         "4880",
         "-999"
        ],
        [
         "6228820",
         "LLOBREGAT",
         "SANT VICENC DELS HORTS",
         "41.386565",
         "2.023356",
         "-999",
         "-999"
        ],
        [
         "6228850",
         "BESOS",
         "SIFON N.A.",
         "41.450598",
         "2.200589",
         "1036",
         "-999"
        ],
        [
         "6228900",
         "TER",
         "RODA DE TER",
         "41.98",
         "2.32",
         "1390",
         "428"
        ],
        [
         "6228910",
         "TER",
         "LES MASIES DE RODA",
         "41.984207",
         "2.301072",
         "1390",
         "-999"
        ],
        [
         "6228920",
         "TER",
         "TORROELLA DE MONTGRI",
         "42.035163",
         "3.125381",
         "-999",
         "-999"
        ]
       ],
       "datasetInfos": [],
       "dbfsResultPath": null,
       "isJsonSchema": true,
       "metadata": {},
       "overflow": false,
       "plotOptions": {
        "customPlotOptions": {},
        "displayType": "table",
        "pivotAggregation": null,
        "pivotColumns": null,
        "xColumns": null,
        "yColumns": null
       },
       "removedWidgets": [],
       "schema": [
        {
         "metadata": "{}",
         "name": "GRDC No.",
         "type": "\"string\""
        },
        {
         "metadata": "{}",
         "name": "River",
         "type": "\"string\""
        },
        {
         "metadata": "{}",
         "name": "Station",
         "type": "\"string\""
        },
        {
         "metadata": "{}",
         "name": "Latitude",
         "type": "\"string\""
        },
        {
         "metadata": "{}",
         "name": "Longitude",
         "type": "\"string\""
        },
        {
         "metadata": "{}",
         "name": "Catchment Area",
         "type": "\"string\""
        },
        {
         "metadata": "{}",
         "name": "Altitude (m ASL)",
         "type": "\"string\""
        }
       ],
       "type": "table"
      }
     },
     "output_type": "display_data"
    },
    {
     "data": {
      "text/plain": [
       "Output can only be rendered in Databricks"
      ]
     },
     "metadata": {
      "application/vnd.databricks.v1.subcommand+json": {
       "bindings": {},
       "collapsed": false,
       "command": "%python\n__backend_agg_display_orig = display\n__backend_agg_dfs = []\ndef __backend_agg_display_new(df):\n    __backend_agg_df_modules = [\"pandas.core.frame\", \"databricks.koalas.frame\", \"pyspark.sql.dataframe\", \"pyspark.pandas.frame\"]\n    if (type(df).__module__ in __backend_agg_df_modules and type(df).__name__ == 'DataFrame') or isinstance(df, list):\n        __backend_agg_dfs.append(df)\n\ndisplay = __backend_agg_display_new\n\ndef __backend_agg_user_code_fn():\n    import base64\n    exec(base64.standard_b64decode(\"ZGlzcGxheShnZW9fZGF0YV9kZik=\").decode())\n\ntry:\n    # run user code\n    __backend_agg_user_code_fn()\n\n    #reset display function\n    display = __backend_agg_display_orig\n\n    if len(__backend_agg_dfs) > 0:\n        # create a temp view\n        if hasattr(__backend_agg_dfs[0], \"to_spark\"):\n            # koalas dataframe\n            __backend_agg_dfs[0].to_spark().createOrReplaceTempView(\"DatabricksViewf22f09f\")\n        elif type(__backend_agg_dfs[0]).__module__ == \"pandas.core.frame\" or isinstance(__backend_agg_dfs[0], list):\n            # pandas dataframe\n            spark.createDataFrame(__backend_agg_dfs[0]).createOrReplaceTempView(\"DatabricksViewf22f09f\")\n        else:\n            __backend_agg_dfs[0].createOrReplaceTempView(\"DatabricksViewf22f09f\")\n        #run backend agg\n        display(spark.sql(\"\"\"WITH q AS (select * from DatabricksViewf22f09f) SELECT `Longitude`,`Latitude`,`Catchment Area`,`Catchment Area` FROM q\"\"\"))\n    else:\n        displayHTML(\"dataframe no longer exists. If you're using dataframe.display(), use display(dataframe) instead.\")\n\n\nfinally:\n    spark.sql(\"drop view if exists DatabricksViewf22f09f\")\n    display = __backend_agg_display_orig\n    del __backend_agg_display_new\n    del __backend_agg_display_orig\n    del __backend_agg_dfs\n    del __backend_agg_user_code_fn\n\n",
       "commandTitle": "Visualization 1",
       "commandType": "auto",
       "commandVersion": 0,
       "commentThread": [],
       "commentsVisible": false,
       "contentSha256Hex": null,
       "customPlotOptions": {
        "redashChart": [
         {
          "key": "type",
          "value": "CHART"
         },
         {
          "key": "options",
          "value": {
           "alignYAxesAtZero": true,
           "coefficient": 1,
           "columnConfigurationMap": {
            "series": {
             "column": "Catchment Area",
             "id": "column_84d09b5d9"
            },
            "x": {
             "column": "Longitude",
             "id": "column_84d09b5d7"
            },
            "y": [
             {
              "column": "Latitude",
              "id": "column_84d09b5d8"
             }
            ],
            "yError": {
             "column": "Catchment Area",
             "id": "column_84d09b5d10"
            }
           },
           "dateTimeFormat": "DD/MM/YYYY HH:mm",
           "direction": {
            "type": "counterclockwise"
           },
           "error_y": {
            "type": "data",
            "visible": true
           },
           "globalSeriesType": "scatter",
           "legend": {
            "enabled": true,
            "placement": "right",
            "traceorder": "normal"
           },
           "missingValuesAsZero": true,
           "numberFormat": "0,0[.]00000",
           "percentFormat": "0[.]00%",
           "series": {
            "error_y": {
             "type": "data",
             "visible": true
            },
            "stacking": null
           },
           "seriesOptions": {
            "Latitude": {
             "type": "scatter",
             "yAxis": 0
            }
           },
           "showDataLabels": false,
           "sizemode": "diameter",
           "sortX": true,
           "sortY": true,
           "swappedAxes": false,
           "textFormat": "",
           "useAggregationsUi": true,
           "valuesOptions": {},
           "version": 2,
           "xAxis": {
            "labels": {
             "enabled": true
            },
            "type": "-"
           },
           "yAxis": [
            {
             "type": "-"
            },
            {
             "opposite": true,
             "type": "-"
            }
           ]
          }
         }
        ]
       },
       "datasetPreviewNameToCmdIdMap": {},
       "diffDeletes": [],
       "diffInserts": [],
       "displayType": "redashChart",
       "error": null,
       "errorSummary": null,
       "errorTraceType": null,
       "finishTime": 0,
       "globalVars": {},
       "guid": "f429440b-bd3e-44f3-9cb4-069545f2e9f3",
       "height": "auto",
       "hideCommandCode": false,
       "hideCommandResult": false,
       "iPythonMetadata": null,
       "inputWidgets": {},
       "isLockedInExamMode": false,
       "latestUser": "a user",
       "latestUserId": null,
       "listResultMetadata": null,
       "metadata": {},
       "nuid": "1910ac05-c2b8-450f-81ec-d9dc489c1767",
       "origId": 4498304727291878,
       "parentHierarchy": [
        "957cf29d-d6b3-4742-aee9-3029f13959a8"
       ],
       "pivotAggregation": null,
       "pivotColumns": null,
       "position": 21.5,
       "resultDbfsErrorMessage": null,
       "resultDbfsStatus": "INLINED_IN_TREE",
       "results": null,
       "showCommandTitle": false,
       "startTime": 0,
       "state": "input",
       "streamStates": {},
       "subcommandOptions": {
        "queryPlan": {
         "selects": [
          {
           "column": "Longitude",
           "type": "column"
          },
          {
           "column": "Latitude",
           "type": "column"
          },
          {
           "column": "Catchment Area",
           "type": "column"
          },
          {
           "column": "Catchment Area",
           "type": "column"
          }
         ]
        }
       },
       "submitTime": 0,
       "subtype": "tableResultSubCmd.visualization",
       "tableResultIndex": 0,
       "useConsistentColors": false,
       "version": "CommandV1",
       "width": "auto",
       "workflows": [],
       "xColumns": null,
       "yColumns": null
      }
     },
     "output_type": "display_data"
    }
   ],
   "source": [
    "##Scatter plot of latitude and longitude with catchment area represented by color\n",
    "display(geo_data_df)"
   ]
  },
  {
   "attachments": {},
   "cell_type": "markdown",
   "metadata": {},
   "source": [
    "![Alt text](scatterplot-Data_Analysis%20-%20Databricks.png)"
   ]
  },
  {
   "cell_type": "code",
   "execution_count": null,
   "metadata": {
    "application/vnd.databricks.v1+cell": {
     "cellMetadata": {
      "byteLimit": 2048000,
      "rowLimit": 10000
     },
     "inputWidgets": {},
     "nuid": "6fe4cfd5-473d-4dfa-9528-04ad5511249a",
     "showTitle": false,
     "title": ""
    }
   },
   "outputs": [
    {
     "data": {
      "text/html": [
       "<style scoped>\n",
       "  .table-result-container {\n",
       "    max-height: 300px;\n",
       "    overflow: auto;\n",
       "  }\n",
       "  table, th, td {\n",
       "    border: 1px solid black;\n",
       "    border-collapse: collapse;\n",
       "  }\n",
       "  th, td {\n",
       "    padding: 5px;\n",
       "  }\n",
       "  th {\n",
       "    text-align: left;\n",
       "  }\n",
       "</style><div class='table-result-container'><table class='table-result'><thead style='background-color: white'><tr><th>GRDC No.</th><th>River</th><th>Station</th><th>Latitude</th><th>Longitude</th><th>Catchment Area</th><th>Altitude (m ASL)</th></tr></thead><tbody><tr><td>6210100</td><td>RIO NERVION</td><td>ECHEVARRI</td><td>43.24813</td><td>-2.89438</td><td>997</td><td>18</td></tr><tr><td>6210210</td><td>TAMBRE</td><td>PORTOMOURD</td><td>42.93673</td><td>-8.65912</td><td>1526.2</td><td>1146</td></tr><tr><td>6210220</td><td>LENGUELLE</td><td>VILACIDE DE ARRBIA</td><td>42.98167</td><td>-8.46225</td><td>311</td><td>228</td></tr><tr><td>6210230</td><td>Tambre</td><td>Carolo</td><td>42.97602</td><td>-8.3775</td><td>561</td><td>240</td></tr><tr><td>6210310</td><td>EO</td><td>San Tirso de Abres</td><td>43.41203</td><td>-7.14513</td><td>712</td><td>21</td></tr><tr><td>6210320</td><td>EO</td><td>PONTENOVO</td><td>43.34766</td><td>-7.19211</td><td>572</td><td>23</td></tr><tr><td>6210330</td><td>EO</td><td>RIBEIRA DE PIQUIN</td><td>43.17761</td><td>-7.20004</td><td>346</td><td>241</td></tr><tr><td>6210410</td><td>NALON</td><td>GRULLOS</td><td>43.43154</td><td>-6.05836</td><td>2884</td><td>34</td></tr><tr><td>6210510</td><td>BIDASOA</td><td>ENDARLAZA</td><td>43.34384</td><td>-1.76099</td><td>681</td><td>29</td></tr><tr><td>6211050</td><td>MINO</td><td>SALVATIERRA DE MINO</td><td>42.07874</td><td>-8.49782</td><td>15678</td><td>24</td></tr><tr><td>6211100</td><td>MINO</td><td>ORENSE</td><td>42.35769</td><td>-7.8516</td><td>12810</td><td>95</td></tr><tr><td>6211150</td><td>MINO</td><td> ORENSE (VIA SATELLITE)</td><td>42.36032</td><td>-7.85179</td><td>12985</td><td>95</td></tr><tr><td>6211160</td><td>MINO</td><td>LUGO</td><td>43.0019</td><td>-7.56348</td><td>2303</td><td>362</td></tr><tr><td>6211170</td><td>MINO</td><td>LUGO</td><td>43.02449</td><td>-7.58797</td><td>2210</td><td>378</td></tr><tr><td>6211180</td><td>MINO</td><td>CELA (MARGEN DERECHA)</td><td>43.13925</td><td>-7.60455</td><td>999</td><td>382</td></tr><tr><td>6211185</td><td>MINO</td><td>CELA (MARGEN DERECHA)</td><td>43.13925</td><td>-7.60455</td><td>999</td><td>382</td></tr><tr><td>6211500</td><td>SIL</td><td> SAN PEDRO</td><td>42.45282</td><td>-7.7152</td><td>7982</td><td>120</td></tr><tr><td>6211520</td><td>SIL</td><td> BARCO DE VALDEORRAS</td><td>42.4127</td><td>-6.97725</td><td>4268</td><td>315</td></tr><tr><td>6211610</td><td>CUA</td><td>FABERO</td><td>42.78728</td><td>-6.62819</td><td>216</td><td>644</td></tr><tr><td>6211620</td><td>BOEZA</td><td>BOEZA</td><td>42.68353</td><td>-6.29401</td><td>106</td><td>827</td></tr><tr><td>6212320</td><td>TAMEGA</td><td>RABAL</td><td>41.84864</td><td>-7.43529</td><td>719</td><td>369</td></tr><tr><td>6212330</td><td>TAMEGA</td><td>CASTRELO DO VAL</td><td>41.99484</td><td>-7.44225</td><td>196</td><td>411</td></tr><tr><td>6212400</td><td>DOURO</td><td>VILLACHICA O SAN ANDRES</td><td>41.5</td><td>-5.48</td><td>41856</td><td>641</td></tr><tr><td>6212410</td><td>DOURO</td><td>TORO</td><td>41.51511</td><td>-5.41283</td><td>41808</td><td>637</td></tr><tr><td>6212420</td><td>DOURO</td><td> PUENTE PINO</td><td>41.58</td><td>-6.19</td><td>63160</td><td>-999</td></tr><tr><td>6212430</td><td>DOURO</td><td>SAUCELLE - DUERO</td><td>41.03101</td><td>-6.82071</td><td>75163</td><td>133</td></tr><tr><td>6212440</td><td>DOURO</td><td>CARRASCAL</td><td>41.48711</td><td>-5.81469</td><td>46700</td><td>619</td></tr><tr><td>6212450</td><td>DOURO</td><td>ZAMORA</td><td>41.51189</td><td>-5.72244</td><td>46137</td><td>628</td></tr><tr><td>6212460</td><td>DOURO</td><td>HERRERA DE DUERO</td><td>41.56543</td><td>-4.66628</td><td>12740</td><td>690</td></tr><tr><td>6212470</td><td>DOURO</td><td>GORMAZ</td><td>41.48765</td><td>-2.99506</td><td>5055</td><td>880</td></tr><tr><td>6212480</td><td>DOURO</td><td>MOLINOS DE DUERO</td><td>41.88747</td><td>-2.78759</td><td>135</td><td>1100</td></tr><tr><td>6212500</td><td>ESLA</td><td>BENAMARIEL</td><td>42.37436</td><td>-5.56125</td><td>3980</td><td>757</td></tr><tr><td>6212505</td><td>ESLA</td><td>BENAMARIEL - 2</td><td>42.36862</td><td>-5.5636</td><td>3980</td><td>757</td></tr><tr><td>6212510</td><td>ESLA</td><td>BRETO</td><td>41.87413</td><td>-5.76421</td><td>14263</td><td>691</td></tr><tr><td>6212515</td><td>ESLA</td><td>BRETO</td><td>41.87414</td><td>-5.76438</td><td>14420.1</td><td>685</td></tr><tr><td>6212550</td><td>BERNESGA</td><td>VILLAMANIN</td><td>42.94048</td><td>-5.66143</td><td>131.3</td><td>1125</td></tr><tr><td>6212610</td><td>VALDERADUEY</td><td>VILLAGODIO - 2</td><td>41.53618</td><td>-5.69874</td><td>3546</td><td>630</td></tr><tr><td>6212620</td><td>VALDERADUEY</td><td>BENEGILES</td><td>41.62382</td><td>-5.63227</td><td>3187.3</td><td>645</td></tr><tr><td>6212630</td><td>VALDERADUEY</td><td>SANTERVAS DE CAMPOS</td><td>42.21593</td><td>-5.09673</td><td>279.1</td><td>756</td></tr><tr><td>6212700</td><td>ARLANZA</td><td> PERAL DE ARLANZA</td><td>42.08</td><td>-4.07</td><td>2413</td><td>766</td></tr><tr><td>6212710</td><td>ARLANZA</td><td> QUINTANA DEL PUENTE</td><td>42.086448</td><td>-4.20781</td><td>5256</td><td>740</td></tr><tr><td>6212720</td><td>ARLANZA</td><td>SALAS DE LOS INFANTES</td><td>42.02359</td><td>-3.29035</td><td>349</td><td>958</td></tr><tr><td>6212740</td><td>PISUERGA</td><td>VALLADOLID-PISUERGA</td><td>41.65977</td><td>-4.73288</td><td>15638</td><td>690</td></tr><tr><td>6212750</td><td>PISUERGA</td><td>CORDOVILLA</td><td>42.13053</td><td>-4.24956</td><td>4227</td><td>740</td></tr><tr><td>6212760</td><td>PISUERGA</td><td>SAN SALVADOR DE CANTAMUDA</td><td>42.96465</td><td>-4.49023</td><td>144</td><td>1095</td></tr><tr><td>6212780</td><td>UCERO</td><td>OSMA</td><td>41.58228</td><td>-3.0754</td><td>900</td><td>890</td></tr><tr><td>6212810</td><td>AGUEDA</td><td>SAELICES EL CHICO</td><td>40.6968</td><td>-6.66088</td><td>1609</td><td>590</td></tr><tr><td>6212820</td><td>AGUEDA</td><td>CASTILLEJO MARTIN VIEJO</td><td>40.69691</td><td>-6.66063</td><td>1700</td><td>584</td></tr><tr><td>6212830</td><td>AGUEDA</td><td>ROBLEDA</td><td>40.42908</td><td>-6.60153</td><td>263</td><td>780</td></tr><tr><td>6212840</td><td>TORMES</td><td>SALAMANCA</td><td>40.95773</td><td>-5.64882</td><td>4010</td><td>780</td></tr><tr><td>6212850</td><td>ADAJA</td><td>VALDESTILLAS</td><td>41.48991</td><td>-4.76955</td><td>5202</td><td>693</td></tr><tr><td>6212860</td><td>DURATON</td><td>SEPULVEDA</td><td>41.30058</td><td>-3.73782</td><td>466.3</td><td>920</td></tr><tr><td>6212870</td><td>TORMES</td><td>HOYOS DEL ESPINO</td><td>40.33862</td><td>-5.17262</td><td>88</td><td>1377</td></tr><tr><td>6213500</td><td>TAGUS </td><td>ALCANTARA (PUENTE ROMANO)</td><td>39.724</td><td>-6.89188</td><td>51958</td><td>110</td></tr><tr><td>6213510</td><td>ALAGON</td><td>GARCIBUEY</td><td>40.4982</td><td>-5.94399</td><td>426</td><td>520</td></tr><tr><td>6213520</td><td>ALAGON</td><td>  GALISTEO</td><td>39.98153</td><td>-6.30487</td><td>2672</td><td>260</td></tr><tr><td>6213530</td><td>TIETAR</td><td> LA BAZAGONA</td><td>39.93297</td><td>-5.90479</td><td>4090</td><td>230</td></tr><tr><td>6213540</td><td>TIETAR</td><td>ARENAS DE SAN PEDRO</td><td>40.159</td><td>-5.01672</td><td>730</td><td>367</td></tr><tr><td>6213600</td><td> TAGUS</td><td>ALCANTARA</td><td>39.76458</td><td>-6.8019</td><td>46487</td><td>121</td></tr><tr><td>6213650</td><td>TAGUS</td><td>TALAVERA LA VISTILLA</td><td>39.94011</td><td>-4.84749</td><td>33859</td><td>357</td></tr><tr><td>6213700</td><td> TAGUS</td><td> TALAVERA</td><td>39.9571</td><td>-4.82941</td><td>33849</td><td>366</td></tr><tr><td>6213750</td><td>JARAMA</td><td>ARANJUEZ (PUENTE LARGO)</td><td>40.08626</td><td>-3.60796</td><td>11549</td><td>491</td></tr><tr><td>6213760</td><td>JARAMA</td><td>MATALLANA</td><td>41.053</td><td>-3.33091</td><td>143</td><td>940</td></tr><tr><td>6213770</td><td>JARAMA</td><td>PUENTE TITULCIA</td><td>40.13715</td><td>-3.58017</td><td>8890</td><td>498</td></tr><tr><td>6213780</td><td>JARAMA</td><td>MEJORADA DEL CAMPO</td><td>40.39521</td><td>-3.50944</td><td>7005</td><td>550</td></tr><tr><td>6213790</td><td>BADIEL</td><td>TORRE DEL BURGO</td><td>40.79684</td><td>-3.0812</td><td>333</td><td>716</td></tr><tr><td>6213792</td><td>LOZOYA</td><td>  EL PAULAR</td><td>40.84627</td><td>-3.8859</td><td>42</td><td>1270</td></tr><tr><td>6213794</td><td>GALLO</td><td>VENTOSA</td><td>40.82924</td><td>-1.96523</td><td>944</td><td>1016</td></tr><tr><td>6213800</td><td>TAGUS</td><td>TRILLO</td><td>40.69743</td><td>-2.58582</td><td>3253</td><td>727</td></tr><tr><td>6213850</td><td>TAGUS</td><td>EMBOCADOR</td><td>40.04181</td><td>-3.56996</td><td>9312</td><td>497</td></tr><tr><td>6213900</td><td>TAGUS</td><td>PERALEJOS DE LAS TRUCHAS</td><td>40.59903</td><td>-1.95419</td><td>410</td><td>1143</td></tr><tr><td>6216500</td><td>GUADIANA</td><td>PUENTE DE PALMAS</td><td>38.88</td><td>-6.97</td><td>48515</td><td>-999</td></tr><tr><td>6216510</td><td>GUADIANA</td><td>AZUD DE BADAJOZ</td><td>38.86199</td><td>-7.01754</td><td>48530</td><td>166</td></tr><tr><td>6216520</td><td>GUADIANA</td><td>VILLARRUBIA</td><td>39.19801</td><td>-3.59073</td><td>10319</td><td>628</td></tr><tr><td>6216530</td><td>GUADIANA</td><td>LA CUBETA</td><td>38.97169</td><td>-2.88906</td><td>856</td><td>758</td></tr><tr><td>6216610</td><td>ZUJAR</td><td>VILLANUEVA DE LA SERENA</td><td>39.0003</td><td>-5.75856</td><td>8508</td><td>250</td></tr><tr><td>6216630</td><td>ZUJAR</td><td>ZUJAR</td><td>38.90985</td><td>-5.49226</td><td>7640</td><td>279</td></tr><tr><td>6216650</td><td>GUALEMAR</td><td>SERENA (GUADALEMAR)</td><td>39.04246</td><td>-4.97835</td><td>324</td><td>444</td></tr><tr><td>6216700</td><td>JABALON</td><td>PUENTE MORENA</td><td>38.871389</td><td>-3.891563</td><td>2337</td><td>580</td></tr><tr><td>6216800</td><td>GIGUELA</td><td>QUINTANAR DE LA ORDEN</td><td>39.64264</td><td>-3.081</td><td>995</td><td>694</td></tr><tr><td>6216810</td><td>GIGUELA</td><td>VILLAFRANCA DE LOS CABALLEROS</td><td>39.415</td><td>-3.30998</td><td>2557</td><td>642</td></tr><tr><td>6216820</td><td>GIGUELA</td><td>SAELICES</td><td>39.88359</td><td>-2.8009</td><td>552</td><td>787</td></tr><tr><td>6217100</td><td>GUADALQUIVIR</td><td>ALCALA DEL RIO</td><td>37.51844</td><td>-5.97639</td><td>46134</td><td>10</td></tr><tr><td>6217110</td><td>GUADALQUIVIR</td><td>CANTILLANA</td><td>37.59278</td><td>-5.81185</td><td>44002</td><td>12</td></tr><tr><td>6217120</td><td>GUADALQUIVIR</td><td>SEVILLA</td><td>37.35066</td><td>-6.02206</td><td>48548</td><td>9</td></tr><tr><td>6217135</td><td>GUADALQUIVIR</td><td>CORDOBA</td><td>37.87936</td><td>-4.77485</td><td>24704</td><td>86</td></tr><tr><td>6217140</td><td>GUADALQUIVIR</td><td> MENGIBAR</td><td>37.98425</td><td>-3.79939</td><td>16166</td><td>240</td></tr><tr><td>6217150</td><td>GUADALQUIVIR</td><td>PUENTE CERRADA</td><td>37.95916</td><td>-3.18981</td><td>1330</td><td>341</td></tr><tr><td>6217200</td><td>GUADALQUIVIR</td><td>ARROYO MARIA</td><td>38.17905</td><td>-2.83594</td><td>583</td><td>538</td></tr><tr><td>6217300</td><td>GENIL</td><td>ECIJA</td><td>37.55806</td><td>-5.07775</td><td>8028</td><td>104</td></tr><tr><td>6217400</td><td>GUADALIMAR</td><td>CARR. TORREBLASCOPEDRO</td><td>38.01643</td><td>-3.63666</td><td>5131</td><td>256</td></tr><tr><td>6217500</td><td>GUADIANA MENOR</td><td>POSITO</td><td>37.88131</td><td>-3.21164</td><td>6349</td><td>383</td></tr><tr><td>6217600</td><td>GUARDAL</td><td>EL DOCTOR</td><td>37.88908</td><td>-2.67431</td><td>28</td><td>1064</td></tr><tr><td>6217700</td><td>FRAILES</td><td>PINOS PUENTE</td><td>37.25869</td><td>-3.76895</td><td>357</td><td>561</td></tr><tr><td>6217800</td><td>GUADIAMAR</td><td> AZNALCAZAR PUENTE</td><td>37.30286</td><td>-6.25986</td><td>960</td><td>21</td></tr><tr><td>6226100</td><td>EBRO</td><td>ARROYO</td><td>42.9627</td><td>-4.05846</td><td>812</td><td>469</td></tr><tr><td>6226200</td><td>EBRO</td><td>MIRANDA DE EBRO</td><td>42.68765</td><td>-2.95553</td><td>5481</td><td>459</td></tr><tr><td>6226210</td><td>JEREA</td><td>VIRUES</td><td>42.80807</td><td>-3.35733</td><td>290</td><td>532</td></tr><tr><td>6226220</td><td>OCA</td><td>ONA</td><td>42.73532</td><td>-3.41395</td><td>1051</td><td>570</td></tr><tr><td>6226230</td><td>NELA</td><td>TRESPADERNE</td><td>42.79986</td><td>-3.39415</td><td>1093</td><td>540</td></tr><tr><td>6226250</td><td>NELA</td><td>VILLARCAYO</td><td>42.94659</td><td>-3.57335</td><td>262</td><td>597</td></tr><tr><td>6226300</td><td>EBRO</td><td> CASTEJON</td><td>42.18008</td><td>-1.69474</td><td>25194</td><td>265</td></tr><tr><td>6226310</td><td>ARAGON</td><td>CAPARROSO</td><td>42.34535</td><td>-1.64761</td><td>5469</td><td>302</td></tr><tr><td>6226350</td><td>ULZAMA</td><td>OLAVE</td><td>42.88354</td><td>-1.60594</td><td>240</td><td>465</td></tr><tr><td>6226390</td><td>ARAGON</td><td>CANFRANC ANTIGUO</td><td>42.71978</td><td>-0.52518</td><td>101</td><td>1040</td></tr><tr><td>6226400</td><td>EBRO</td><td>ZARAGOZA</td><td>41.65857</td><td>-0.88106</td><td>40434</td><td>189</td></tr><tr><td>6226420</td><td>HUERVA</td><td>ZARAGOZA</td><td>41.63706</td><td>-0.89788</td><td>1017</td><td>203</td></tr><tr><td>6226430</td><td>GALLEGO</td><td>ZARAGOZA</td><td>41.66878</td><td>-0.8417</td><td>4008</td><td>197</td></tr><tr><td>6226440</td><td>JALON</td><td>GRISEN</td><td>41.73411</td><td>-1.17489</td><td>9694</td><td>250</td></tr><tr><td>6226450</td><td>ARBA DE LUESIA</td><td>TAUSTE</td><td>41.91296</td><td>-1.28009</td><td>2193</td><td>243</td></tr><tr><td>6226460</td><td>JALON</td><td>JUBERA</td><td>41.19659</td><td>-2.33844</td><td>196</td><td>892</td></tr><tr><td>6226470</td><td>ARBA DE LUESIA</td><td>BIOTA</td><td>42.26199</td><td>-1.19189</td><td>144</td><td>476</td></tr><tr><td>6226480</td><td>JILOCA</td><td>CALAMOCHA</td><td>40.92019</td><td>-1.30242</td><td>1498</td><td>883</td></tr><tr><td>6226490</td><td>GALLEGO</td><td>SALLENT DE GALLEGO</td><td>42.76875</td><td>-0.33491</td><td>1350</td><td>44</td></tr><tr><td>6226500</td><td>FORTANETE</td><td>PITARQUE</td><td>40.50333</td><td>-0.52275</td><td>284</td><td>990</td></tr><tr><td>6226550</td><td>GUADALOPE</td><td>CASPE</td><td>41.24529</td><td>0.00103</td><td>3845</td><td>128</td></tr><tr><td>6226600</td><td>SEGRE</td><td>SEROS</td><td>41.45289</td><td>0.41971</td><td>12782</td><td>85</td></tr><tr><td>6226640</td><td>SEGRE</td><td>PUIGCERDA</td><td>42.42349</td><td>1.93329</td><td>297</td><td>1120</td></tr><tr><td>6226650</td><td>CINCA</td><td>FRAGA</td><td>41.52445</td><td>0.34657</td><td>9612</td><td>100</td></tr><tr><td>6226690</td><td>CINCA</td><td>LAFORTUNADA</td><td>42.54271</td><td>0.19518</td><td>453</td><td>700</td></tr><tr><td>6226700</td><td>VERO</td><td>LECINA DE BARCABO</td><td>42.22018</td><td>0.04365</td><td>110</td><td>630</td></tr><tr><td>6226800</td><td>EBRO</td><td>TORTOSA</td><td>40.81328</td><td>0.52066</td><td>84230</td><td>25</td></tr><tr><td>6227100</td><td>GUADALHORCE</td><td>BOBADILLA</td><td>37.05</td><td>-4.7</td><td>761</td><td>370</td></tr><tr><td>6227130</td><td>TURIA</td><td>LA PRESA</td><td>39.51777</td><td>-0.50406</td><td>6294</td><td>50</td></tr><tr><td>6227150</td><td>TURIA</td><td>TERUEL</td><td>40.34311</td><td>-1.11142</td><td>2357</td><td>851</td></tr><tr><td>6227160</td><td>ALFAMBRA</td><td>VILLALBA ALTA</td><td>40.61675</td><td>-0.97426</td><td>478</td><td>1060</td></tr><tr><td>6227170</td><td>TURIA</td><td>TRAMACASTILLA</td><td>40.42774</td><td>-1.56014</td><td>95</td><td>1278</td></tr><tr><td>6227300</td><td>NACIMIENTO</td><td>EL CHONO</td><td>37.08</td><td>-2.63</td><td>616</td><td>512</td></tr><tr><td>6227410</td><td>SEGURA</td><td>ROJALES</td><td>38.08919</td><td>-0.72155</td><td>14894</td><td>12</td></tr><tr><td>6227420</td><td>SEGURA</td><td>ROJALES (NUEVA )</td><td>38.09135</td><td>-0.71314</td><td>14331</td><td>9</td></tr><tr><td>6227430</td><td>SEGURA</td><td>CALASPARRA</td><td>38.24651</td><td>-1.6943</td><td>5713</td><td>258</td></tr><tr><td>6227440</td><td>SEGURA</td><td>PUENTE DEL BAYO</td><td>38.28552</td><td>-1.68971</td><td>5137</td><td>300</td></tr><tr><td>6227500</td><td>JUCAR</td><td>MASIA DE POMPO</td><td>39.12558</td><td>-0.64545</td><td>17821</td><td>54</td></tr><tr><td>6227510</td><td>JUCAR</td><td>HUERTO MULET</td><td>39.18695</td><td>-0.41044</td><td>21497</td><td>18</td></tr><tr><td>6227520</td><td>JUCAR</td><td>ALCALA DEL JUCAR</td><td>39.19421</td><td>-1.42779</td><td>10785</td><td>520</td></tr><tr><td>6227530</td><td>JUCAR</td><td>VENTA DE JUAN ROMERO</td><td>40.225</td><td>-1.84415</td><td>250</td><td>1170</td></tr><tr><td>6227610</td><td>MIJARES</td><td>VILLARREAL</td><td>39.9613</td><td>-0.11924</td><td>2504</td><td>50</td></tr><tr><td>6227620</td><td>MIJARES</td><td> EL TERDE</td><td>40.16094</td><td>-0.76986</td><td>665</td><td>845</td></tr><tr><td>6228600</td><td>BESOS</td><td>SANTA COLOMA DE GRAMENET</td><td>41.450598</td><td>2.200589</td><td>1036</td><td>-999</td></tr><tr><td>6228700</td><td>MOUGA</td><td>CASTELLO D'EMPURIES</td><td>42.254381</td><td>3.071999</td><td>-999</td><td>-999</td></tr><tr><td>6228800</td><td>LLOBREGAT</td><td>MARTORELL</td><td>41.468569</td><td>1.947855</td><td>4561</td><td>44</td></tr><tr><td>6228810</td><td>LLOBREGAT</td><td>SANT JOAN DESPI</td><td>41.351811</td><td>2.0466</td><td>4880</td><td>-999</td></tr><tr><td>6228820</td><td>LLOBREGAT</td><td>SANT VICENC DELS HORTS</td><td>41.386565</td><td>2.023356</td><td>-999</td><td>-999</td></tr><tr><td>6228850</td><td>BESOS</td><td>SIFON N.A.</td><td>41.450598</td><td>2.200589</td><td>1036</td><td>-999</td></tr><tr><td>6228900</td><td>TER</td><td>RODA DE TER</td><td>41.98</td><td>2.32</td><td>1390</td><td>428</td></tr><tr><td>6228910</td><td>TER</td><td>LES MASIES DE RODA</td><td>41.984207</td><td>2.301072</td><td>1390</td><td>-999</td></tr><tr><td>6228920</td><td>TER</td><td>TORROELLA DE MONTGRI</td><td>42.035163</td><td>3.125381</td><td>-999</td><td>-999</td></tr></tbody></table></div>"
      ]
     },
     "metadata": {
      "application/vnd.databricks.v1+output": {
       "addedWidgets": {},
       "aggData": [],
       "aggError": "",
       "aggOverflow": false,
       "aggSchema": [],
       "aggSeriesLimitReached": false,
       "aggType": "",
       "arguments": {},
       "columnCustomDisplayInfos": {},
       "data": [
        [
         "6210100",
         "RIO NERVION",
         "ECHEVARRI",
         "43.24813",
         "-2.89438",
         "997",
         "18"
        ],
        [
         "6210210",
         "TAMBRE",
         "PORTOMOURD",
         "42.93673",
         "-8.65912",
         "1526.2",
         "1146"
        ],
        [
         "6210220",
         "LENGUELLE",
         "VILACIDE DE ARRBIA",
         "42.98167",
         "-8.46225",
         "311",
         "228"
        ],
        [
         "6210230",
         "Tambre",
         "Carolo",
         "42.97602",
         "-8.3775",
         "561",
         "240"
        ],
        [
         "6210310",
         "EO",
         "San Tirso de Abres",
         "43.41203",
         "-7.14513",
         "712",
         "21"
        ],
        [
         "6210320",
         "EO",
         "PONTENOVO",
         "43.34766",
         "-7.19211",
         "572",
         "23"
        ],
        [
         "6210330",
         "EO",
         "RIBEIRA DE PIQUIN",
         "43.17761",
         "-7.20004",
         "346",
         "241"
        ],
        [
         "6210410",
         "NALON",
         "GRULLOS",
         "43.43154",
         "-6.05836",
         "2884",
         "34"
        ],
        [
         "6210510",
         "BIDASOA",
         "ENDARLAZA",
         "43.34384",
         "-1.76099",
         "681",
         "29"
        ],
        [
         "6211050",
         "MINO",
         "SALVATIERRA DE MINO",
         "42.07874",
         "-8.49782",
         "15678",
         "24"
        ],
        [
         "6211100",
         "MINO",
         "ORENSE",
         "42.35769",
         "-7.8516",
         "12810",
         "95"
        ],
        [
         "6211150",
         "MINO",
         " ORENSE (VIA SATELLITE)",
         "42.36032",
         "-7.85179",
         "12985",
         "95"
        ],
        [
         "6211160",
         "MINO",
         "LUGO",
         "43.0019",
         "-7.56348",
         "2303",
         "362"
        ],
        [
         "6211170",
         "MINO",
         "LUGO",
         "43.02449",
         "-7.58797",
         "2210",
         "378"
        ],
        [
         "6211180",
         "MINO",
         "CELA (MARGEN DERECHA)",
         "43.13925",
         "-7.60455",
         "999",
         "382"
        ],
        [
         "6211185",
         "MINO",
         "CELA (MARGEN DERECHA)",
         "43.13925",
         "-7.60455",
         "999",
         "382"
        ],
        [
         "6211500",
         "SIL",
         " SAN PEDRO",
         "42.45282",
         "-7.7152",
         "7982",
         "120"
        ],
        [
         "6211520",
         "SIL",
         " BARCO DE VALDEORRAS",
         "42.4127",
         "-6.97725",
         "4268",
         "315"
        ],
        [
         "6211610",
         "CUA",
         "FABERO",
         "42.78728",
         "-6.62819",
         "216",
         "644"
        ],
        [
         "6211620",
         "BOEZA",
         "BOEZA",
         "42.68353",
         "-6.29401",
         "106",
         "827"
        ],
        [
         "6212320",
         "TAMEGA",
         "RABAL",
         "41.84864",
         "-7.43529",
         "719",
         "369"
        ],
        [
         "6212330",
         "TAMEGA",
         "CASTRELO DO VAL",
         "41.99484",
         "-7.44225",
         "196",
         "411"
        ],
        [
         "6212400",
         "DOURO",
         "VILLACHICA O SAN ANDRES",
         "41.5",
         "-5.48",
         "41856",
         "641"
        ],
        [
         "6212410",
         "DOURO",
         "TORO",
         "41.51511",
         "-5.41283",
         "41808",
         "637"
        ],
        [
         "6212420",
         "DOURO",
         " PUENTE PINO",
         "41.58",
         "-6.19",
         "63160",
         "-999"
        ],
        [
         "6212430",
         "DOURO",
         "SAUCELLE - DUERO",
         "41.03101",
         "-6.82071",
         "75163",
         "133"
        ],
        [
         "6212440",
         "DOURO",
         "CARRASCAL",
         "41.48711",
         "-5.81469",
         "46700",
         "619"
        ],
        [
         "6212450",
         "DOURO",
         "ZAMORA",
         "41.51189",
         "-5.72244",
         "46137",
         "628"
        ],
        [
         "6212460",
         "DOURO",
         "HERRERA DE DUERO",
         "41.56543",
         "-4.66628",
         "12740",
         "690"
        ],
        [
         "6212470",
         "DOURO",
         "GORMAZ",
         "41.48765",
         "-2.99506",
         "5055",
         "880"
        ],
        [
         "6212480",
         "DOURO",
         "MOLINOS DE DUERO",
         "41.88747",
         "-2.78759",
         "135",
         "1100"
        ],
        [
         "6212500",
         "ESLA",
         "BENAMARIEL",
         "42.37436",
         "-5.56125",
         "3980",
         "757"
        ],
        [
         "6212505",
         "ESLA",
         "BENAMARIEL - 2",
         "42.36862",
         "-5.5636",
         "3980",
         "757"
        ],
        [
         "6212510",
         "ESLA",
         "BRETO",
         "41.87413",
         "-5.76421",
         "14263",
         "691"
        ],
        [
         "6212515",
         "ESLA",
         "BRETO",
         "41.87414",
         "-5.76438",
         "14420.1",
         "685"
        ],
        [
         "6212550",
         "BERNESGA",
         "VILLAMANIN",
         "42.94048",
         "-5.66143",
         "131.3",
         "1125"
        ],
        [
         "6212610",
         "VALDERADUEY",
         "VILLAGODIO - 2",
         "41.53618",
         "-5.69874",
         "3546",
         "630"
        ],
        [
         "6212620",
         "VALDERADUEY",
         "BENEGILES",
         "41.62382",
         "-5.63227",
         "3187.3",
         "645"
        ],
        [
         "6212630",
         "VALDERADUEY",
         "SANTERVAS DE CAMPOS",
         "42.21593",
         "-5.09673",
         "279.1",
         "756"
        ],
        [
         "6212700",
         "ARLANZA",
         " PERAL DE ARLANZA",
         "42.08",
         "-4.07",
         "2413",
         "766"
        ],
        [
         "6212710",
         "ARLANZA",
         " QUINTANA DEL PUENTE",
         "42.086448",
         "-4.20781",
         "5256",
         "740"
        ],
        [
         "6212720",
         "ARLANZA",
         "SALAS DE LOS INFANTES",
         "42.02359",
         "-3.29035",
         "349",
         "958"
        ],
        [
         "6212740",
         "PISUERGA",
         "VALLADOLID-PISUERGA",
         "41.65977",
         "-4.73288",
         "15638",
         "690"
        ],
        [
         "6212750",
         "PISUERGA",
         "CORDOVILLA",
         "42.13053",
         "-4.24956",
         "4227",
         "740"
        ],
        [
         "6212760",
         "PISUERGA",
         "SAN SALVADOR DE CANTAMUDA",
         "42.96465",
         "-4.49023",
         "144",
         "1095"
        ],
        [
         "6212780",
         "UCERO",
         "OSMA",
         "41.58228",
         "-3.0754",
         "900",
         "890"
        ],
        [
         "6212810",
         "AGUEDA",
         "SAELICES EL CHICO",
         "40.6968",
         "-6.66088",
         "1609",
         "590"
        ],
        [
         "6212820",
         "AGUEDA",
         "CASTILLEJO MARTIN VIEJO",
         "40.69691",
         "-6.66063",
         "1700",
         "584"
        ],
        [
         "6212830",
         "AGUEDA",
         "ROBLEDA",
         "40.42908",
         "-6.60153",
         "263",
         "780"
        ],
        [
         "6212840",
         "TORMES",
         "SALAMANCA",
         "40.95773",
         "-5.64882",
         "4010",
         "780"
        ],
        [
         "6212850",
         "ADAJA",
         "VALDESTILLAS",
         "41.48991",
         "-4.76955",
         "5202",
         "693"
        ],
        [
         "6212860",
         "DURATON",
         "SEPULVEDA",
         "41.30058",
         "-3.73782",
         "466.3",
         "920"
        ],
        [
         "6212870",
         "TORMES",
         "HOYOS DEL ESPINO",
         "40.33862",
         "-5.17262",
         "88",
         "1377"
        ],
        [
         "6213500",
         "TAGUS ",
         "ALCANTARA (PUENTE ROMANO)",
         "39.724",
         "-6.89188",
         "51958",
         "110"
        ],
        [
         "6213510",
         "ALAGON",
         "GARCIBUEY",
         "40.4982",
         "-5.94399",
         "426",
         "520"
        ],
        [
         "6213520",
         "ALAGON",
         "  GALISTEO",
         "39.98153",
         "-6.30487",
         "2672",
         "260"
        ],
        [
         "6213530",
         "TIETAR",
         " LA BAZAGONA",
         "39.93297",
         "-5.90479",
         "4090",
         "230"
        ],
        [
         "6213540",
         "TIETAR",
         "ARENAS DE SAN PEDRO",
         "40.159",
         "-5.01672",
         "730",
         "367"
        ],
        [
         "6213600",
         " TAGUS",
         "ALCANTARA",
         "39.76458",
         "-6.8019",
         "46487",
         "121"
        ],
        [
         "6213650",
         "TAGUS",
         "TALAVERA LA VISTILLA",
         "39.94011",
         "-4.84749",
         "33859",
         "357"
        ],
        [
         "6213700",
         " TAGUS",
         " TALAVERA",
         "39.9571",
         "-4.82941",
         "33849",
         "366"
        ],
        [
         "6213750",
         "JARAMA",
         "ARANJUEZ (PUENTE LARGO)",
         "40.08626",
         "-3.60796",
         "11549",
         "491"
        ],
        [
         "6213760",
         "JARAMA",
         "MATALLANA",
         "41.053",
         "-3.33091",
         "143",
         "940"
        ],
        [
         "6213770",
         "JARAMA",
         "PUENTE TITULCIA",
         "40.13715",
         "-3.58017",
         "8890",
         "498"
        ],
        [
         "6213780",
         "JARAMA",
         "MEJORADA DEL CAMPO",
         "40.39521",
         "-3.50944",
         "7005",
         "550"
        ],
        [
         "6213790",
         "BADIEL",
         "TORRE DEL BURGO",
         "40.79684",
         "-3.0812",
         "333",
         "716"
        ],
        [
         "6213792",
         "LOZOYA",
         "  EL PAULAR",
         "40.84627",
         "-3.8859",
         "42",
         "1270"
        ],
        [
         "6213794",
         "GALLO",
         "VENTOSA",
         "40.82924",
         "-1.96523",
         "944",
         "1016"
        ],
        [
         "6213800",
         "TAGUS",
         "TRILLO",
         "40.69743",
         "-2.58582",
         "3253",
         "727"
        ],
        [
         "6213850",
         "TAGUS",
         "EMBOCADOR",
         "40.04181",
         "-3.56996",
         "9312",
         "497"
        ],
        [
         "6213900",
         "TAGUS",
         "PERALEJOS DE LAS TRUCHAS",
         "40.59903",
         "-1.95419",
         "410",
         "1143"
        ],
        [
         "6216500",
         "GUADIANA",
         "PUENTE DE PALMAS",
         "38.88",
         "-6.97",
         "48515",
         "-999"
        ],
        [
         "6216510",
         "GUADIANA",
         "AZUD DE BADAJOZ",
         "38.86199",
         "-7.01754",
         "48530",
         "166"
        ],
        [
         "6216520",
         "GUADIANA",
         "VILLARRUBIA",
         "39.19801",
         "-3.59073",
         "10319",
         "628"
        ],
        [
         "6216530",
         "GUADIANA",
         "LA CUBETA",
         "38.97169",
         "-2.88906",
         "856",
         "758"
        ],
        [
         "6216610",
         "ZUJAR",
         "VILLANUEVA DE LA SERENA",
         "39.0003",
         "-5.75856",
         "8508",
         "250"
        ],
        [
         "6216630",
         "ZUJAR",
         "ZUJAR",
         "38.90985",
         "-5.49226",
         "7640",
         "279"
        ],
        [
         "6216650",
         "GUALEMAR",
         "SERENA (GUADALEMAR)",
         "39.04246",
         "-4.97835",
         "324",
         "444"
        ],
        [
         "6216700",
         "JABALON",
         "PUENTE MORENA",
         "38.871389",
         "-3.891563",
         "2337",
         "580"
        ],
        [
         "6216800",
         "GIGUELA",
         "QUINTANAR DE LA ORDEN",
         "39.64264",
         "-3.081",
         "995",
         "694"
        ],
        [
         "6216810",
         "GIGUELA",
         "VILLAFRANCA DE LOS CABALLEROS",
         "39.415",
         "-3.30998",
         "2557",
         "642"
        ],
        [
         "6216820",
         "GIGUELA",
         "SAELICES",
         "39.88359",
         "-2.8009",
         "552",
         "787"
        ],
        [
         "6217100",
         "GUADALQUIVIR",
         "ALCALA DEL RIO",
         "37.51844",
         "-5.97639",
         "46134",
         "10"
        ],
        [
         "6217110",
         "GUADALQUIVIR",
         "CANTILLANA",
         "37.59278",
         "-5.81185",
         "44002",
         "12"
        ],
        [
         "6217120",
         "GUADALQUIVIR",
         "SEVILLA",
         "37.35066",
         "-6.02206",
         "48548",
         "9"
        ],
        [
         "6217135",
         "GUADALQUIVIR",
         "CORDOBA",
         "37.87936",
         "-4.77485",
         "24704",
         "86"
        ],
        [
         "6217140",
         "GUADALQUIVIR",
         " MENGIBAR",
         "37.98425",
         "-3.79939",
         "16166",
         "240"
        ],
        [
         "6217150",
         "GUADALQUIVIR",
         "PUENTE CERRADA",
         "37.95916",
         "-3.18981",
         "1330",
         "341"
        ],
        [
         "6217200",
         "GUADALQUIVIR",
         "ARROYO MARIA",
         "38.17905",
         "-2.83594",
         "583",
         "538"
        ],
        [
         "6217300",
         "GENIL",
         "ECIJA",
         "37.55806",
         "-5.07775",
         "8028",
         "104"
        ],
        [
         "6217400",
         "GUADALIMAR",
         "CARR. TORREBLASCOPEDRO",
         "38.01643",
         "-3.63666",
         "5131",
         "256"
        ],
        [
         "6217500",
         "GUADIANA MENOR",
         "POSITO",
         "37.88131",
         "-3.21164",
         "6349",
         "383"
        ],
        [
         "6217600",
         "GUARDAL",
         "EL DOCTOR",
         "37.88908",
         "-2.67431",
         "28",
         "1064"
        ],
        [
         "6217700",
         "FRAILES",
         "PINOS PUENTE",
         "37.25869",
         "-3.76895",
         "357",
         "561"
        ],
        [
         "6217800",
         "GUADIAMAR",
         " AZNALCAZAR PUENTE",
         "37.30286",
         "-6.25986",
         "960",
         "21"
        ],
        [
         "6226100",
         "EBRO",
         "ARROYO",
         "42.9627",
         "-4.05846",
         "812",
         "469"
        ],
        [
         "6226200",
         "EBRO",
         "MIRANDA DE EBRO",
         "42.68765",
         "-2.95553",
         "5481",
         "459"
        ],
        [
         "6226210",
         "JEREA",
         "VIRUES",
         "42.80807",
         "-3.35733",
         "290",
         "532"
        ],
        [
         "6226220",
         "OCA",
         "ONA",
         "42.73532",
         "-3.41395",
         "1051",
         "570"
        ],
        [
         "6226230",
         "NELA",
         "TRESPADERNE",
         "42.79986",
         "-3.39415",
         "1093",
         "540"
        ],
        [
         "6226250",
         "NELA",
         "VILLARCAYO",
         "42.94659",
         "-3.57335",
         "262",
         "597"
        ],
        [
         "6226300",
         "EBRO",
         " CASTEJON",
         "42.18008",
         "-1.69474",
         "25194",
         "265"
        ],
        [
         "6226310",
         "ARAGON",
         "CAPARROSO",
         "42.34535",
         "-1.64761",
         "5469",
         "302"
        ],
        [
         "6226350",
         "ULZAMA",
         "OLAVE",
         "42.88354",
         "-1.60594",
         "240",
         "465"
        ],
        [
         "6226390",
         "ARAGON",
         "CANFRANC ANTIGUO",
         "42.71978",
         "-0.52518",
         "101",
         "1040"
        ],
        [
         "6226400",
         "EBRO",
         "ZARAGOZA",
         "41.65857",
         "-0.88106",
         "40434",
         "189"
        ],
        [
         "6226420",
         "HUERVA",
         "ZARAGOZA",
         "41.63706",
         "-0.89788",
         "1017",
         "203"
        ],
        [
         "6226430",
         "GALLEGO",
         "ZARAGOZA",
         "41.66878",
         "-0.8417",
         "4008",
         "197"
        ],
        [
         "6226440",
         "JALON",
         "GRISEN",
         "41.73411",
         "-1.17489",
         "9694",
         "250"
        ],
        [
         "6226450",
         "ARBA DE LUESIA",
         "TAUSTE",
         "41.91296",
         "-1.28009",
         "2193",
         "243"
        ],
        [
         "6226460",
         "JALON",
         "JUBERA",
         "41.19659",
         "-2.33844",
         "196",
         "892"
        ],
        [
         "6226470",
         "ARBA DE LUESIA",
         "BIOTA",
         "42.26199",
         "-1.19189",
         "144",
         "476"
        ],
        [
         "6226480",
         "JILOCA",
         "CALAMOCHA",
         "40.92019",
         "-1.30242",
         "1498",
         "883"
        ],
        [
         "6226490",
         "GALLEGO",
         "SALLENT DE GALLEGO",
         "42.76875",
         "-0.33491",
         "1350",
         "44"
        ],
        [
         "6226500",
         "FORTANETE",
         "PITARQUE",
         "40.50333",
         "-0.52275",
         "284",
         "990"
        ],
        [
         "6226550",
         "GUADALOPE",
         "CASPE",
         "41.24529",
         "0.00103",
         "3845",
         "128"
        ],
        [
         "6226600",
         "SEGRE",
         "SEROS",
         "41.45289",
         "0.41971",
         "12782",
         "85"
        ],
        [
         "6226640",
         "SEGRE",
         "PUIGCERDA",
         "42.42349",
         "1.93329",
         "297",
         "1120"
        ],
        [
         "6226650",
         "CINCA",
         "FRAGA",
         "41.52445",
         "0.34657",
         "9612",
         "100"
        ],
        [
         "6226690",
         "CINCA",
         "LAFORTUNADA",
         "42.54271",
         "0.19518",
         "453",
         "700"
        ],
        [
         "6226700",
         "VERO",
         "LECINA DE BARCABO",
         "42.22018",
         "0.04365",
         "110",
         "630"
        ],
        [
         "6226800",
         "EBRO",
         "TORTOSA",
         "40.81328",
         "0.52066",
         "84230",
         "25"
        ],
        [
         "6227100",
         "GUADALHORCE",
         "BOBADILLA",
         "37.05",
         "-4.7",
         "761",
         "370"
        ],
        [
         "6227130",
         "TURIA",
         "LA PRESA",
         "39.51777",
         "-0.50406",
         "6294",
         "50"
        ],
        [
         "6227150",
         "TURIA",
         "TERUEL",
         "40.34311",
         "-1.11142",
         "2357",
         "851"
        ],
        [
         "6227160",
         "ALFAMBRA",
         "VILLALBA ALTA",
         "40.61675",
         "-0.97426",
         "478",
         "1060"
        ],
        [
         "6227170",
         "TURIA",
         "TRAMACASTILLA",
         "40.42774",
         "-1.56014",
         "95",
         "1278"
        ],
        [
         "6227300",
         "NACIMIENTO",
         "EL CHONO",
         "37.08",
         "-2.63",
         "616",
         "512"
        ],
        [
         "6227410",
         "SEGURA",
         "ROJALES",
         "38.08919",
         "-0.72155",
         "14894",
         "12"
        ],
        [
         "6227420",
         "SEGURA",
         "ROJALES (NUEVA )",
         "38.09135",
         "-0.71314",
         "14331",
         "9"
        ],
        [
         "6227430",
         "SEGURA",
         "CALASPARRA",
         "38.24651",
         "-1.6943",
         "5713",
         "258"
        ],
        [
         "6227440",
         "SEGURA",
         "PUENTE DEL BAYO",
         "38.28552",
         "-1.68971",
         "5137",
         "300"
        ],
        [
         "6227500",
         "JUCAR",
         "MASIA DE POMPO",
         "39.12558",
         "-0.64545",
         "17821",
         "54"
        ],
        [
         "6227510",
         "JUCAR",
         "HUERTO MULET",
         "39.18695",
         "-0.41044",
         "21497",
         "18"
        ],
        [
         "6227520",
         "JUCAR",
         "ALCALA DEL JUCAR",
         "39.19421",
         "-1.42779",
         "10785",
         "520"
        ],
        [
         "6227530",
         "JUCAR",
         "VENTA DE JUAN ROMERO",
         "40.225",
         "-1.84415",
         "250",
         "1170"
        ],
        [
         "6227610",
         "MIJARES",
         "VILLARREAL",
         "39.9613",
         "-0.11924",
         "2504",
         "50"
        ],
        [
         "6227620",
         "MIJARES",
         " EL TERDE",
         "40.16094",
         "-0.76986",
         "665",
         "845"
        ],
        [
         "6228600",
         "BESOS",
         "SANTA COLOMA DE GRAMENET",
         "41.450598",
         "2.200589",
         "1036",
         "-999"
        ],
        [
         "6228700",
         "MOUGA",
         "CASTELLO D'EMPURIES",
         "42.254381",
         "3.071999",
         "-999",
         "-999"
        ],
        [
         "6228800",
         "LLOBREGAT",
         "MARTORELL",
         "41.468569",
         "1.947855",
         "4561",
         "44"
        ],
        [
         "6228810",
         "LLOBREGAT",
         "SANT JOAN DESPI",
         "41.351811",
         "2.0466",
         "4880",
         "-999"
        ],
        [
         "6228820",
         "LLOBREGAT",
         "SANT VICENC DELS HORTS",
         "41.386565",
         "2.023356",
         "-999",
         "-999"
        ],
        [
         "6228850",
         "BESOS",
         "SIFON N.A.",
         "41.450598",
         "2.200589",
         "1036",
         "-999"
        ],
        [
         "6228900",
         "TER",
         "RODA DE TER",
         "41.98",
         "2.32",
         "1390",
         "428"
        ],
        [
         "6228910",
         "TER",
         "LES MASIES DE RODA",
         "41.984207",
         "2.301072",
         "1390",
         "-999"
        ],
        [
         "6228920",
         "TER",
         "TORROELLA DE MONTGRI",
         "42.035163",
         "3.125381",
         "-999",
         "-999"
        ]
       ],
       "datasetInfos": [],
       "dbfsResultPath": null,
       "isJsonSchema": true,
       "metadata": {},
       "overflow": false,
       "plotOptions": {
        "customPlotOptions": {},
        "displayType": "table",
        "pivotAggregation": null,
        "pivotColumns": null,
        "xColumns": null,
        "yColumns": null
       },
       "removedWidgets": [],
       "schema": [
        {
         "metadata": "{}",
         "name": "GRDC No.",
         "type": "\"string\""
        },
        {
         "metadata": "{}",
         "name": "River",
         "type": "\"string\""
        },
        {
         "metadata": "{}",
         "name": "Station",
         "type": "\"string\""
        },
        {
         "metadata": "{}",
         "name": "Latitude",
         "type": "\"string\""
        },
        {
         "metadata": "{}",
         "name": "Longitude",
         "type": "\"string\""
        },
        {
         "metadata": "{}",
         "name": "Catchment Area",
         "type": "\"string\""
        },
        {
         "metadata": "{}",
         "name": "Altitude (m ASL)",
         "type": "\"string\""
        }
       ],
       "type": "table"
      }
     },
     "output_type": "display_data"
    },
    {
     "data": {
      "text/plain": [
       "Output can only be rendered in Databricks"
      ]
     },
     "metadata": {
      "application/vnd.databricks.v1.subcommand+json": {
       "bindings": {},
       "collapsed": false,
       "command": "%python\n__backend_agg_display_orig = display\n__backend_agg_dfs = []\ndef __backend_agg_display_new(df):\n    __backend_agg_df_modules = [\"pandas.core.frame\", \"databricks.koalas.frame\", \"pyspark.sql.dataframe\", \"pyspark.pandas.frame\"]\n    if (type(df).__module__ in __backend_agg_df_modules and type(df).__name__ == 'DataFrame') or isinstance(df, list):\n        __backend_agg_dfs.append(df)\n\ndisplay = __backend_agg_display_new\n\ndef __backend_agg_user_code_fn():\n    import base64\n    exec(base64.standard_b64decode(\"I0JveHBsb3Qgb2YgYWx0aXR1ZGUgYnkgcml2ZXIKZGlzcGxheShnZW9fZGF0YV9kZik=\").decode())\n\ntry:\n    # run user code\n    __backend_agg_user_code_fn()\n\n    #reset display function\n    display = __backend_agg_display_orig\n\n    if len(__backend_agg_dfs) > 0:\n        # create a temp view\n        if hasattr(__backend_agg_dfs[0], \"to_spark\"):\n            # koalas dataframe\n            __backend_agg_dfs[0].to_spark().createOrReplaceTempView(\"DatabricksView7711fcf\")\n        elif type(__backend_agg_dfs[0]).__module__ == \"pandas.core.frame\" or isinstance(__backend_agg_dfs[0], list):\n            # pandas dataframe\n            spark.createDataFrame(__backend_agg_dfs[0]).createOrReplaceTempView(\"DatabricksView7711fcf\")\n        else:\n            __backend_agg_dfs[0].createOrReplaceTempView(\"DatabricksView7711fcf\")\n        #run backend agg\n        display(spark.sql(\"\"\"WITH q AS (select * from DatabricksView7711fcf) SELECT `River`,`Altitude (m ASL)`,`River` FROM q\"\"\"))\n    else:\n        displayHTML(\"dataframe no longer exists. If you're using dataframe.display(), use display(dataframe) instead.\")\n\n\nfinally:\n    spark.sql(\"drop view if exists DatabricksView7711fcf\")\n    display = __backend_agg_display_orig\n    del __backend_agg_display_new\n    del __backend_agg_display_orig\n    del __backend_agg_dfs\n    del __backend_agg_user_code_fn\n\n",
       "commandTitle": "Visualization 1",
       "commandType": "auto",
       "commandVersion": 0,
       "commentThread": [],
       "commentsVisible": false,
       "contentSha256Hex": null,
       "customPlotOptions": {
        "redashChart": [
         {
          "key": "type",
          "value": "CHART"
         },
         {
          "key": "options",
          "value": {
           "alignYAxesAtZero": true,
           "coefficient": 1,
           "columnConfigurationMap": {
            "series": {
             "column": "River",
             "id": "column_84d09b5d21"
            },
            "x": {
             "column": "River",
             "id": "column_84d09b5d17"
            },
            "y": [
             {
              "column": "Altitude (m ASL)",
              "id": "column_84d09b5d20"
             }
            ]
           },
           "dateTimeFormat": "DD/MM/YYYY HH:mm",
           "direction": {
            "type": "counterclockwise"
           },
           "error_y": {
            "type": "data",
            "visible": true
           },
           "globalSeriesType": "box",
           "legend": {
            "enabled": true,
            "placement": "right",
            "traceorder": "normal"
           },
           "missingValuesAsZero": true,
           "numberFormat": "0,0[.]00000",
           "percentFormat": "0[.]00%",
           "series": {
            "error_y": {
             "type": "data",
             "visible": true
            },
            "stacking": null
           },
           "seriesOptions": {
            "Altitude (m ASL)": {
             "type": "box",
             "yAxis": 0
            },
            "River": {
             "type": "box",
             "yAxis": 0
            }
           },
           "showDataLabels": false,
           "showpoints": false,
           "sizemode": "diameter",
           "sortX": true,
           "sortY": true,
           "swappedAxes": false,
           "textFormat": "",
           "useAggregationsUi": true,
           "valuesOptions": {},
           "version": 2,
           "xAxis": {
            "labels": {
             "enabled": true
            },
            "type": "-"
           },
           "yAxis": [
            {
             "type": "-"
            },
            {
             "opposite": true,
             "type": "-"
            }
           ]
          }
         }
        ]
       },
       "datasetPreviewNameToCmdIdMap": {},
       "diffDeletes": [],
       "diffInserts": [],
       "displayType": "redashChart",
       "error": null,
       "errorSummary": null,
       "errorTraceType": null,
       "finishTime": 0,
       "globalVars": {},
       "guid": "130e0dd0-480e-4381-8cc6-c3989a899b8a",
       "height": "auto",
       "hideCommandCode": false,
       "hideCommandResult": false,
       "iPythonMetadata": null,
       "inputWidgets": {},
       "isLockedInExamMode": false,
       "latestUser": "a user",
       "latestUserId": null,
       "listResultMetadata": null,
       "metadata": {},
       "nuid": "e022816d-c6c2-4941-8372-f128e66d1fdd",
       "origId": 4498304727291880,
       "parentHierarchy": [
        "d68e872d-8d64-419e-8827-d82e18572337"
       ],
       "pivotAggregation": null,
       "pivotColumns": null,
       "position": 22.5,
       "resultDbfsErrorMessage": null,
       "resultDbfsStatus": "INLINED_IN_TREE",
       "results": null,
       "showCommandTitle": false,
       "startTime": 0,
       "state": "input",
       "streamStates": {},
       "subcommandOptions": {
        "queryPlan": {
         "selects": [
          {
           "column": "River",
           "type": "column"
          },
          {
           "column": "Altitude (m ASL)",
           "type": "column"
          },
          {
           "column": "River",
           "type": "column"
          }
         ]
        }
       },
       "submitTime": 0,
       "subtype": "tableResultSubCmd.visualization",
       "tableResultIndex": 0,
       "useConsistentColors": false,
       "version": "CommandV1",
       "width": "auto",
       "workflows": [],
       "xColumns": null,
       "yColumns": null
      }
     },
     "output_type": "display_data"
    }
   ],
   "source": [
    "#Boxplot of altitude by river\n",
    "display(geo_data_df)"
   ]
  },
  {
   "attachments": {},
   "cell_type": "markdown",
   "metadata": {},
   "source": [
    "![Alt text](Boxplot-Data_Analysis%20-%20Databricks.png)"
   ]
  }
 ],
 "metadata": {
  "application/vnd.databricks.v1+notebook": {
   "dashboards": [],
   "language": "python",
   "notebookMetadata": {
    "mostRecentlyExecutedCommandWithImplicitDF": {
     "commandId": 4498304727291870,
     "dataframes": [
      "_sqldf"
     ]
    },
    "pythonIndentUnit": 4
   },
   "notebookName": "Data_Analysis",
   "notebookOrigID": 2624400647373695,
   "widgets": {}
  },
  "language_info": {
   "name": "python"
  }
 },
 "nbformat": 4,
 "nbformat_minor": 0
}
